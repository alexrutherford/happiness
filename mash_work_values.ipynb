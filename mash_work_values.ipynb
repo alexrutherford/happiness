{
 "cells": [
  {
   "cell_type": "code",
   "execution_count": 308,
   "metadata": {},
   "outputs": [],
   "source": [
    "import pandas as pd\n",
    "import seaborn as sns\n",
    "import matplotlib.pyplot as plt\n",
    "import collections\n",
    "import scipy.stats\n",
    "import numpy as np\n",
    "%matplotlib inline"
   ]
  },
  {
   "cell_type": "code",
   "execution_count": 270,
   "metadata": {},
   "outputs": [],
   "source": [
    "sns.set_context('paper',font_scale=2)"
   ]
  },
  {
   "cell_type": "code",
   "execution_count": 2,
   "metadata": {},
   "outputs": [],
   "source": [
    "df = pd.read_csv('orderedOnetSkillsByComputerization.csv')"
   ]
  },
  {
   "cell_type": "code",
   "execution_count": 3,
   "metadata": {},
   "outputs": [
    {
     "data": {
      "text/html": [
       "<div>\n",
       "<style scoped>\n",
       "    .dataframe tbody tr th:only-of-type {\n",
       "        vertical-align: middle;\n",
       "    }\n",
       "\n",
       "    .dataframe tbody tr th {\n",
       "        vertical-align: top;\n",
       "    }\n",
       "\n",
       "    .dataframe thead th {\n",
       "        text-align: right;\n",
       "    }\n",
       "</style>\n",
       "<table border=\"1\" class=\"dataframe\">\n",
       "  <thead>\n",
       "    <tr style=\"text-align: right;\">\n",
       "      <th></th>\n",
       "      <th>Unnamed: 0</th>\n",
       "      <th>Skill</th>\n",
       "      <th>correlation</th>\n",
       "    </tr>\n",
       "  </thead>\n",
       "  <tbody>\n",
       "    <tr>\n",
       "      <th>0</th>\n",
       "      <td>136</td>\n",
       "      <td>Originality</td>\n",
       "      <td>-0.584977</td>\n",
       "    </tr>\n",
       "    <tr>\n",
       "      <th>1</th>\n",
       "      <td>72</td>\n",
       "      <td>Fluency of Ideas</td>\n",
       "      <td>-0.579859</td>\n",
       "    </tr>\n",
       "    <tr>\n",
       "      <th>2</th>\n",
       "      <td>204</td>\n",
       "      <td>Systems Evaluation</td>\n",
       "      <td>-0.565116</td>\n",
       "    </tr>\n",
       "    <tr>\n",
       "      <th>3</th>\n",
       "      <td>154</td>\n",
       "      <td>Provide Consultation and Advice to Others</td>\n",
       "      <td>-0.549661</td>\n",
       "    </tr>\n",
       "    <tr>\n",
       "      <th>4</th>\n",
       "      <td>37</td>\n",
       "      <td>Developing Objectives and Strategies</td>\n",
       "      <td>-0.545076</td>\n",
       "    </tr>\n",
       "  </tbody>\n",
       "</table>\n",
       "</div>"
      ],
      "text/plain": [
       "   Unnamed: 0                                      Skill  correlation\n",
       "0         136                                Originality    -0.584977\n",
       "1          72                           Fluency of Ideas    -0.579859\n",
       "2         204                         Systems Evaluation    -0.565116\n",
       "3         154  Provide Consultation and Advice to Others    -0.549661\n",
       "4          37       Developing Objectives and Strategies    -0.545076"
      ]
     },
     "execution_count": 3,
     "metadata": {},
     "output_type": "execute_result"
    }
   ],
   "source": [
    "df.head()"
   ]
  },
  {
   "cell_type": "markdown",
   "metadata": {},
   "source": [
    "## Frey-Osbourne for jobs"
   ]
  },
  {
   "cell_type": "code",
   "execution_count": 4,
   "metadata": {},
   "outputs": [],
   "source": [
    "df = pd.read_csv('game_data/probOfCompByOccupation2.csv')"
   ]
  },
  {
   "cell_type": "code",
   "execution_count": 5,
   "metadata": {},
   "outputs": [
    {
     "data": {
      "text/html": [
       "<div>\n",
       "<style scoped>\n",
       "    .dataframe tbody tr th:only-of-type {\n",
       "        vertical-align: middle;\n",
       "    }\n",
       "\n",
       "    .dataframe tbody tr th {\n",
       "        vertical-align: top;\n",
       "    }\n",
       "\n",
       "    .dataframe thead th {\n",
       "        text-align: right;\n",
       "    }\n",
       "</style>\n",
       "<table border=\"1\" class=\"dataframe\">\n",
       "  <thead>\n",
       "    <tr style=\"text-align: right;\">\n",
       "      <th></th>\n",
       "      <th>Rank</th>\n",
       "      <th>Probability</th>\n",
       "      <th>Label</th>\n",
       "      <th>SOC</th>\n",
       "      <th>Occupation</th>\n",
       "    </tr>\n",
       "  </thead>\n",
       "  <tbody>\n",
       "    <tr>\n",
       "      <th>0</th>\n",
       "      <td>1</td>\n",
       "      <td>0.0028</td>\n",
       "      <td>-1</td>\n",
       "      <td>29-1125</td>\n",
       "      <td>Recreational Therapists</td>\n",
       "    </tr>\n",
       "    <tr>\n",
       "      <th>1</th>\n",
       "      <td>2</td>\n",
       "      <td>0.0030</td>\n",
       "      <td>-1</td>\n",
       "      <td>49-1011</td>\n",
       "      <td>First-Line Supervisors of Mechanics Installers...</td>\n",
       "    </tr>\n",
       "    <tr>\n",
       "      <th>2</th>\n",
       "      <td>3</td>\n",
       "      <td>0.0030</td>\n",
       "      <td>-1</td>\n",
       "      <td>11-9161</td>\n",
       "      <td>Emergency Management Directors</td>\n",
       "    </tr>\n",
       "    <tr>\n",
       "      <th>3</th>\n",
       "      <td>4</td>\n",
       "      <td>0.0031</td>\n",
       "      <td>-1</td>\n",
       "      <td>21-1023</td>\n",
       "      <td>Mental Health and Substance Abuse Social Workers</td>\n",
       "    </tr>\n",
       "    <tr>\n",
       "      <th>4</th>\n",
       "      <td>5</td>\n",
       "      <td>0.0033</td>\n",
       "      <td>-1</td>\n",
       "      <td>29-1181</td>\n",
       "      <td>Audiologists</td>\n",
       "    </tr>\n",
       "  </tbody>\n",
       "</table>\n",
       "</div>"
      ],
      "text/plain": [
       "   Rank  Probability Label      SOC  \\\n",
       "0     1       0.0028    -1  29-1125   \n",
       "1     2       0.0030    -1  49-1011   \n",
       "2     3       0.0030    -1  11-9161   \n",
       "3     4       0.0031    -1  21-1023   \n",
       "4     5       0.0033    -1  29-1181   \n",
       "\n",
       "                                          Occupation  \n",
       "0                            Recreational Therapists  \n",
       "1  First-Line Supervisors of Mechanics Installers...  \n",
       "2                     Emergency Management Directors  \n",
       "3   Mental Health and Substance Abuse Social Workers  \n",
       "4                                       Audiologists  "
      ]
     },
     "execution_count": 5,
     "metadata": {},
     "output_type": "execute_result"
    }
   ],
   "source": [
    "df.head()"
   ]
  },
  {
   "cell_type": "code",
   "execution_count": 41,
   "metadata": {},
   "outputs": [],
   "source": [
    "df['SOC'] = df['SOC'].astype(str)"
   ]
  },
  {
   "cell_type": "code",
   "execution_count": 50,
   "metadata": {},
   "outputs": [],
   "source": [
    "df.set_index(df['SOC'],inplace=True)"
   ]
  },
  {
   "cell_type": "markdown",
   "metadata": {},
   "source": [
    "## Work Values"
   ]
  },
  {
   "cell_type": "code",
   "execution_count": 6,
   "metadata": {},
   "outputs": [],
   "source": [
    "independenceDf = pd.read_csv('work_values_data/Independence.csv')"
   ]
  },
  {
   "cell_type": "code",
   "execution_count": 7,
   "metadata": {},
   "outputs": [
    {
     "data": {
      "text/html": [
       "<div>\n",
       "<style scoped>\n",
       "    .dataframe tbody tr th:only-of-type {\n",
       "        vertical-align: middle;\n",
       "    }\n",
       "\n",
       "    .dataframe tbody tr th {\n",
       "        vertical-align: top;\n",
       "    }\n",
       "\n",
       "    .dataframe thead th {\n",
       "        text-align: right;\n",
       "    }\n",
       "</style>\n",
       "<table border=\"1\" class=\"dataframe\">\n",
       "  <thead>\n",
       "    <tr style=\"text-align: right;\">\n",
       "      <th></th>\n",
       "      <th>O*NET-SOC Code</th>\n",
       "      <th>O*NET-SOC Title</th>\n",
       "      <th>Job Zone</th>\n",
       "      <th>First Work Value</th>\n",
       "      <th>Second Work Value</th>\n",
       "      <th>Third Work Value</th>\n",
       "    </tr>\n",
       "  </thead>\n",
       "  <tbody>\n",
       "    <tr>\n",
       "      <th>0</th>\n",
       "      <td>39-3091.00</td>\n",
       "      <td>Amusement and Recreation Attendants</td>\n",
       "      <td>1</td>\n",
       "      <td>Support</td>\n",
       "      <td>Independence</td>\n",
       "      <td>Relationships</td>\n",
       "    </tr>\n",
       "    <tr>\n",
       "      <th>1</th>\n",
       "      <td>35-2011.00</td>\n",
       "      <td>Cooks, Fast Food</td>\n",
       "      <td>1</td>\n",
       "      <td>Relationships</td>\n",
       "      <td>Support</td>\n",
       "      <td>Independence</td>\n",
       "    </tr>\n",
       "    <tr>\n",
       "      <th>2</th>\n",
       "      <td>41-2021.00</td>\n",
       "      <td>Counter and Rental Clerks</td>\n",
       "      <td>1</td>\n",
       "      <td>Relationships</td>\n",
       "      <td>Support</td>\n",
       "      <td>Independence</td>\n",
       "    </tr>\n",
       "    <tr>\n",
       "      <th>3</th>\n",
       "      <td>35-9011.00</td>\n",
       "      <td>Dining Room and Cafeteria Attendants and Barte...</td>\n",
       "      <td>1</td>\n",
       "      <td>Relationships</td>\n",
       "      <td>Support</td>\n",
       "      <td>Independence</td>\n",
       "    </tr>\n",
       "    <tr>\n",
       "      <th>4</th>\n",
       "      <td>35-9021.00</td>\n",
       "      <td>Dishwashers</td>\n",
       "      <td>1</td>\n",
       "      <td>Relationships</td>\n",
       "      <td>Support</td>\n",
       "      <td>Independence</td>\n",
       "    </tr>\n",
       "  </tbody>\n",
       "</table>\n",
       "</div>"
      ],
      "text/plain": [
       "  O*NET-SOC Code                                    O*NET-SOC Title  Job Zone  \\\n",
       "0     39-3091.00                Amusement and Recreation Attendants         1   \n",
       "1     35-2011.00                                   Cooks, Fast Food         1   \n",
       "2     41-2021.00                          Counter and Rental Clerks         1   \n",
       "3     35-9011.00  Dining Room and Cafeteria Attendants and Barte...         1   \n",
       "4     35-9021.00                                        Dishwashers         1   \n",
       "\n",
       "  First Work Value Second Work Value Third Work Value  \n",
       "0          Support      Independence    Relationships  \n",
       "1    Relationships           Support     Independence  \n",
       "2    Relationships           Support     Independence  \n",
       "3    Relationships           Support     Independence  \n",
       "4    Relationships           Support     Independence  "
      ]
     },
     "execution_count": 7,
     "metadata": {},
     "output_type": "execute_result"
    }
   ],
   "source": [
    "independenceDf.head()"
   ]
  },
  {
   "cell_type": "code",
   "execution_count": 86,
   "metadata": {},
   "outputs": [],
   "source": [
    "independenceDf['SOC'] = independenceDf['O*NET-SOC Code'].apply(lambda x:str(x[0:-3]))"
   ]
  },
  {
   "cell_type": "code",
   "execution_count": 87,
   "metadata": {},
   "outputs": [],
   "source": [
    "independenceDf.set_index(independenceDf['SOC'],inplace=True)"
   ]
  },
  {
   "cell_type": "markdown",
   "metadata": {},
   "source": [
    "## Job Zone (Education Level)"
   ]
  },
  {
   "cell_type": "code",
   "execution_count": 406,
   "metadata": {},
   "outputs": [
    {
     "data": {
      "image/png": "[encoded data removed]",
      "text/plain": [
       "<Figure size 432x288 with 1 Axes>"
      ]
     },
     "metadata": {
      "needs_background": "light"
     },
     "output_type": "display_data"
    }
   ],
   "source": [
    "plt.bar(range(1,6),list(collections.Counter(independenceDf['Job Zone']).values()))\n",
    "_ = plt.ylabel('Job Zone (Education Level)')"
   ]
  },
  {
   "cell_type": "code",
   "execution_count": 408,
   "metadata": {},
   "outputs": [],
   "source": [
    "allJobZoneDf = pd.read_csv('All_Job_Zones.csv')"
   ]
  },
  {
   "cell_type": "code",
   "execution_count": 412,
   "metadata": {},
   "outputs": [
    {
     "data": {
      "image/png": "[encoded data removed]",
      "text/plain": [
       "<Figure size 432x288 with 1 Axes>"
      ]
     },
     "metadata": {
      "needs_background": "light"
     },
     "output_type": "display_data"
    }
   ],
   "source": [
    "plt.bar(range(1,6),list(collections.Counter(allJobZoneDf['Job Zone']).values()))\n",
    "_ = plt.xlabel('Job Zone')\n",
    "\n",
    "plt.tight_layout()\n",
    "\n",
    "plt.savefig('figures/job_zone_all.png',dpi=300)"
   ]
  },
  {
   "cell_type": "code",
   "execution_count": 275,
   "metadata": {},
   "outputs": [
    {
     "data": {
      "image/png": "[encoded data removed]",
      "text/plain": [
       "<Figure size 432x288 with 1 Axes>"
      ]
     },
     "metadata": {
      "needs_background": "light"
     },
     "output_type": "display_data"
    }
   ],
   "source": [
    "fig, ax = plt.subplots()\n",
    "ax.bar([r+0.4 for r in range(1,6)],[l/float(independenceDf.shape[0]) \\\n",
    "                for l in list(collections.Counter(independenceDf['Job Zone']).values())],0.4,label = 'Independence')\n",
    "ax.bar(range(1,6),[l/float(allJobZoneDf.shape[0]) \\\n",
    "                for l in list(collections.Counter(allJobZoneDf['Job Zone']).values())],0.4,label = 'All')\n",
    "plt.legend()\n",
    "_ = plt.xlabel('Job Zone (Education Level)')\n",
    "_ = plt.ylabel('Proportion')\n",
    "\n",
    "plt.tight_layout()\n",
    "\n",
    "plt.savefig('figures/job_zone_independence.png',dpi = 300)"
   ]
  },
  {
   "cell_type": "markdown",
   "metadata": {},
   "source": [
    "## Achievement"
   ]
  },
  {
   "cell_type": "code",
   "execution_count": 88,
   "metadata": {},
   "outputs": [],
   "source": [
    "achievementDf = pd.read_csv('work_values_data/Achievement.csv')"
   ]
  },
  {
   "cell_type": "code",
   "execution_count": 89,
   "metadata": {},
   "outputs": [],
   "source": [
    "achievementDf['SOC'] = achievementDf['O*NET-SOC Code'].apply(lambda x:str(x[0:-3]))"
   ]
  },
  {
   "cell_type": "code",
   "execution_count": 90,
   "metadata": {},
   "outputs": [],
   "source": [
    "achievementDf.set_index(achievementDf['SOC'],inplace=True)"
   ]
  },
  {
   "cell_type": "markdown",
   "metadata": {},
   "source": [
    "## Recognition"
   ]
  },
  {
   "cell_type": "code",
   "execution_count": 92,
   "metadata": {},
   "outputs": [],
   "source": [
    "recogntitionDf = pd.read_csv('work_values_data/Recognition.csv')"
   ]
  },
  {
   "cell_type": "code",
   "execution_count": 93,
   "metadata": {},
   "outputs": [],
   "source": [
    "recogntitionDf['SOC'] = recogntitionDf['O*NET-SOC Code'].apply(lambda x:str(x[0:-3]))"
   ]
  },
  {
   "cell_type": "code",
   "execution_count": 96,
   "metadata": {},
   "outputs": [],
   "source": [
    "recogntitionDf.set_index(recogntitionDf['SOC'],inplace=True)"
   ]
  },
  {
   "cell_type": "markdown",
   "metadata": {},
   "source": [
    "## Relationships"
   ]
  },
  {
   "cell_type": "code",
   "execution_count": 97,
   "metadata": {},
   "outputs": [],
   "source": [
    "relationshipsDf = pd.read_csv('work_values_data/Relationships.csv')"
   ]
  },
  {
   "cell_type": "code",
   "execution_count": 98,
   "metadata": {},
   "outputs": [],
   "source": [
    "relationshipsDf['SOC'] = relationshipsDf['O*NET-SOC Code'].apply(lambda x:str(x[0:-3]))"
   ]
  },
  {
   "cell_type": "code",
   "execution_count": 99,
   "metadata": {},
   "outputs": [],
   "source": [
    "relationshipsDf.set_index(relationshipsDf['SOC'],inplace=True)"
   ]
  },
  {
   "cell_type": "markdown",
   "metadata": {},
   "source": [
    "## Support"
   ]
  },
  {
   "cell_type": "code",
   "execution_count": 34,
   "metadata": {},
   "outputs": [],
   "source": [
    "supportDf = pd.read_csv('work_values_data/Support.csv')"
   ]
  },
  {
   "cell_type": "code",
   "execution_count": 35,
   "metadata": {},
   "outputs": [
    {
     "data": {
      "text/html": [
       "<div>\n",
       "<style scoped>\n",
       "    .dataframe tbody tr th:only-of-type {\n",
       "        vertical-align: middle;\n",
       "    }\n",
       "\n",
       "    .dataframe tbody tr th {\n",
       "        vertical-align: top;\n",
       "    }\n",
       "\n",
       "    .dataframe thead th {\n",
       "        text-align: right;\n",
       "    }\n",
       "</style>\n",
       "<table border=\"1\" class=\"dataframe\">\n",
       "  <thead>\n",
       "    <tr style=\"text-align: right;\">\n",
       "      <th></th>\n",
       "      <th>O*NET-SOC Code</th>\n",
       "      <th>O*NET-SOC Title</th>\n",
       "      <th>Job Zone</th>\n",
       "      <th>First Work Value</th>\n",
       "      <th>Second Work Value</th>\n",
       "      <th>Third Work Value</th>\n",
       "    </tr>\n",
       "  </thead>\n",
       "  <tbody>\n",
       "    <tr>\n",
       "      <th>0</th>\n",
       "      <td>39-3091.00</td>\n",
       "      <td>Amusement and Recreation Attendants</td>\n",
       "      <td>1</td>\n",
       "      <td>Support</td>\n",
       "      <td>Independence</td>\n",
       "      <td>Relationships</td>\n",
       "    </tr>\n",
       "    <tr>\n",
       "      <th>1</th>\n",
       "      <td>53-6011.00</td>\n",
       "      <td>Bridge and Lock Tenders</td>\n",
       "      <td>1</td>\n",
       "      <td>Support</td>\n",
       "      <td>Relationships</td>\n",
       "      <td>Working Conditions</td>\n",
       "    </tr>\n",
       "    <tr>\n",
       "      <th>2</th>\n",
       "      <td>53-7011.00</td>\n",
       "      <td>Conveyor Operators and Tenders</td>\n",
       "      <td>1</td>\n",
       "      <td>Support</td>\n",
       "      <td>Relationships</td>\n",
       "      <td>Independence</td>\n",
       "    </tr>\n",
       "    <tr>\n",
       "      <th>3</th>\n",
       "      <td>47-5011.00</td>\n",
       "      <td>Derrick Operators, Oil and Gas</td>\n",
       "      <td>1</td>\n",
       "      <td>Support</td>\n",
       "      <td>Relationships</td>\n",
       "      <td>Working Conditions</td>\n",
       "    </tr>\n",
       "    <tr>\n",
       "      <th>4</th>\n",
       "      <td>49-9093.00</td>\n",
       "      <td>Fabric Menders, Except Garment</td>\n",
       "      <td>1</td>\n",
       "      <td>Support</td>\n",
       "      <td>Achievement</td>\n",
       "      <td>Working Conditions</td>\n",
       "    </tr>\n",
       "  </tbody>\n",
       "</table>\n",
       "</div>"
      ],
      "text/plain": [
       "  O*NET-SOC Code                      O*NET-SOC Title  Job Zone  \\\n",
       "0     39-3091.00  Amusement and Recreation Attendants         1   \n",
       "1     53-6011.00              Bridge and Lock Tenders         1   \n",
       "2     53-7011.00       Conveyor Operators and Tenders         1   \n",
       "3     47-5011.00       Derrick Operators, Oil and Gas         1   \n",
       "4     49-9093.00       Fabric Menders, Except Garment         1   \n",
       "\n",
       "  First Work Value Second Work Value    Third Work Value  \n",
       "0          Support      Independence       Relationships  \n",
       "1          Support     Relationships  Working Conditions  \n",
       "2          Support     Relationships        Independence  \n",
       "3          Support     Relationships  Working Conditions  \n",
       "4          Support       Achievement  Working Conditions  "
      ]
     },
     "execution_count": 35,
     "metadata": {},
     "output_type": "execute_result"
    }
   ],
   "source": [
    "supportDf.head()"
   ]
  },
  {
   "cell_type": "code",
   "execution_count": 36,
   "metadata": {},
   "outputs": [
    {
     "data": {
      "text/plain": [
       "(315, 6)"
      ]
     },
     "execution_count": 36,
     "metadata": {},
     "output_type": "execute_result"
    }
   ],
   "source": [
    "supportDf.shape"
   ]
  },
  {
   "cell_type": "code",
   "execution_count": 37,
   "metadata": {},
   "outputs": [],
   "source": [
    "supportDf['SOC'] = supportDf['O*NET-SOC Code'].apply(lambda x:str(x[0:-3]))"
   ]
  },
  {
   "cell_type": "code",
   "execution_count": 51,
   "metadata": {},
   "outputs": [],
   "source": [
    "supportDf.set_index(supportDf['SOC'],inplace=True)"
   ]
  },
  {
   "cell_type": "markdown",
   "metadata": {},
   "source": [
    "## Working Conditions"
   ]
  },
  {
   "cell_type": "code",
   "execution_count": 108,
   "metadata": {},
   "outputs": [],
   "source": [
    "workingConditionsDf = pd.read_csv('work_values_data/Working_Conditions.csv')"
   ]
  },
  {
   "cell_type": "code",
   "execution_count": 109,
   "metadata": {},
   "outputs": [],
   "source": [
    "workingConditionsDf['SOC'] = workingConditionsDf['O*NET-SOC Code'].apply(lambda x:str(x[0:-3]))"
   ]
  },
  {
   "cell_type": "code",
   "execution_count": 110,
   "metadata": {},
   "outputs": [],
   "source": [
    "workingConditionsDf.set_index(workingConditionsDf['SOC'],inplace=True)"
   ]
  },
  {
   "cell_type": "markdown",
   "metadata": {},
   "source": [
    "## Toss out jobs with missing Job Zone values?"
   ]
  },
  {
   "cell_type": "code",
   "execution_count": 276,
   "metadata": {},
   "outputs": [],
   "source": [
    "combined['Job Zone'].fillna(value = -1,inplace = True)"
   ]
  },
  {
   "cell_type": "code",
   "execution_count": 579,
   "metadata": {},
   "outputs": [
    {
     "data": {
      "image/png": "[encoded data removed]",
      "text/plain": [
       "<Figure size 432x288 with 1 Axes>"
      ]
     },
     "metadata": {
      "needs_background": "light"
     },
     "output_type": "display_data"
    }
   ],
   "source": [
    "if False:\n",
    "    subset = combined[pd.isna(combined['Job Zone'])]\n",
    "else:\n",
    "    subset = combined\n",
    "    \n",
    "fig, ax = plt.subplots()\n",
    "\n",
    "ax.hist(df['Probability'],bins=np.linspace(0,1,11))\n",
    "\n",
    "plt.axvline(np.mean(df['Probability']),linewidth=3,linestyle='--',color='grey')\n",
    "#plt.annotate(s={.2f}.format(np.mean(combined[pd.isna(combined['Job Zone'])]['Probability'])),\\\n",
    "#             xy=(np.mean(combined[pd.isna(combined['Job Zone'])]['Probability']),100))\n",
    "\n",
    "plt.title('All Jobs \\n'+\n",
    "'(Mean = {:.2})'.format(np.mean(df['Probability'])))\n",
    "plt.xlabel('Automation Probability')\n",
    "\n",
    "ax.spines['right'].set_visible(False)\n",
    "ax.spines['left'].set_visible(False)\n",
    "ax.spines['top'].set_visible(False)\n",
    "\n",
    "plt.tight_layout()\n",
    "\n",
    "plt.savefig('figures/automation_prob_overall.png',dpi=300)"
   ]
  },
  {
   "cell_type": "code",
   "execution_count": 577,
   "metadata": {},
   "outputs": [],
   "source": [
    "combined = supportDf.join(df,on = 'SOC',lsuffix='s',how='outer')"
   ]
  },
  {
   "cell_type": "code",
   "execution_count": 391,
   "metadata": {},
   "outputs": [],
   "source": [
    "def getSignificance(probs,ks = False):\n",
    "    \n",
    "    probs = probs.dropna()\n",
    "    \n",
    "    if ks:\n",
    "        res = scipy.stats.ks_2samp(probs,df['Probability'])\n",
    "    else:\n",
    "        res = scipy.stats.ttest_ind(df['Probability'],probs)\n",
    "        \n",
    "    print(res)\n",
    "    \n",
    "    if res[1] <0.01:\n",
    "        return '**'\n",
    "    if res[1] <0.05:\n",
    "        return '*'\n",
    "    return ''"
   ]
  },
  {
   "cell_type": "code",
   "execution_count": 558,
   "metadata": {},
   "outputs": [],
   "source": [
    "def getDirection(val1,val2):\n",
    "    \n",
    "    if val1 > val2:\n",
    "        return '↑'\n",
    "    else:\n",
    "        return '↓'"
   ]
  },
  {
   "cell_type": "code",
   "execution_count": 578,
   "metadata": {},
   "outputs": [
    {
     "name": "stdout",
     "output_type": "stream",
     "text": [
      "Ttest_indResult(statistic=-7.767505006915125, pvalue=1.9855867150039488e-14)\n"
     ]
    },
    {
     "data": {
      "image/png": "[encoded data removed]",
      "text/plain": [
       "<Figure size 432x288 with 1 Axes>"
      ]
     },
     "metadata": {
      "needs_background": "light"
     },
     "output_type": "display_data"
    }
   ],
   "source": [
    "if True:\n",
    "    subset = combined[~pd.isna(combined['Job Zone'])]\n",
    "else:\n",
    "    subset = combined\n",
    "\n",
    "fig, ax = plt.subplots()\n",
    "    \n",
    "_ = ax.hist(subset['Probability'],bins=np.linspace(0,1,11))\n",
    "\n",
    "plt.axvline(np.mean(subset['Probability']),linewidth=2,linestyle='--')\n",
    "\n",
    "plt.title('Support\\n'+\\\n",
    "         '(Mean = {:.2}{:s}) {:s}'.format(np.mean(subset['Probability']),getSignificance(subset['Probability']),\\\n",
    "         getDirection(np.mean(subset['Probability']),np.mean(df['Probability']))))\n",
    "\n",
    "plt.xlabel('Automation Probability')\n",
    "\n",
    "ax.spines['right'].set_visible(False)\n",
    "ax.spines['left'].set_visible(False)\n",
    "\n",
    "ax.spines['top'].set_visible(False)\n",
    "\n",
    "\n",
    "plt.tight_layout()\n",
    "\n",
    "plt.savefig('figures/automation_prob_support.png',dpi=300)"
   ]
  },
  {
   "cell_type": "code",
   "execution_count": 567,
   "metadata": {},
   "outputs": [
    {
     "name": "stderr",
     "output_type": "stream",
     "text": [
      "/Users/alexisrutherford/anaconda3/lib/python3.6/site-packages/pandas/core/frame.py:6336: FutureWarning: 'SOC' is both an index level and a column label.\n",
      "Defaulting to column, but this will raise an ambiguity error in a future version\n",
      "  rsuffix=rsuffix, sort=sort)\n"
     ]
    }
   ],
   "source": [
    "combined = achievementDf.join(df,on = 'SOC',lsuffix='s',how='outer')"
   ]
  },
  {
   "cell_type": "code",
   "execution_count": 568,
   "metadata": {},
   "outputs": [
    {
     "name": "stdout",
     "output_type": "stream",
     "text": [
      "Ttest_indResult(statistic=7.896697710707776, pvalue=8.873310599788366e-15)\n"
     ]
    },
    {
     "data": {
      "image/png": "[encoded data removed]",
      "text/plain": [
       "<Figure size 432x288 with 1 Axes>"
      ]
     },
     "metadata": {
      "needs_background": "light"
     },
     "output_type": "display_data"
    }
   ],
   "source": [
    "if True:\n",
    "    subset = combined[~pd.isna(combined['Job Zone'])]\n",
    "else:\n",
    "    subset = combined\n",
    "\n",
    "fig, ax = plt.subplots()\n",
    "\n",
    "    \n",
    "_ = ax.hist(subset['Probability'],bins=np.linspace(0,1,11))\n",
    "\n",
    "plt.axvline(np.mean(subset['Probability']),linewidth=2,linestyle='--')\n",
    "\n",
    "plt.title('Achievement\\n'+\\\n",
    "'(Mean = {:.2}{:s}) {:s}'.format(np.mean(subset['Probability']),getSignificance(subset['Probability']),\\\n",
    "         getDirection(np.mean(subset['Probability']),np.mean(df['Probability']))))\n",
    "\n",
    "plt.xlabel('Automation Probability')\n",
    "\n",
    "ax.spines['right'].set_visible(False)\n",
    "ax.spines['left'].set_visible(False)\n",
    "ax.spines['top'].set_visible(False)\n",
    "\n",
    "\n",
    "plt.tight_layout()\n",
    "\n",
    "plt.savefig('figures/automation_prob_achievement.png',dpi=300)"
   ]
  },
  {
   "cell_type": "code",
   "execution_count": 569,
   "metadata": {},
   "outputs": [],
   "source": [
    "combined = recogntitionDf.join(df,on = 'SOC',lsuffix='s',how='outer')"
   ]
  },
  {
   "cell_type": "code",
   "execution_count": 571,
   "metadata": {},
   "outputs": [
    {
     "name": "stdout",
     "output_type": "stream",
     "text": [
      "Ttest_indResult(statistic=6.698804208383819, pvalue=4.113808039993141e-11)\n"
     ]
    },
    {
     "data": {
      "image/png": "[encoded data removed]",
      "text/plain": [
       "<Figure size 432x288 with 1 Axes>"
      ]
     },
     "metadata": {
      "needs_background": "light"
     },
     "output_type": "display_data"
    }
   ],
   "source": [
    "\n",
    "if True:\n",
    "    subset = combined[~pd.isna(combined['Job Zone'])]\n",
    "else:\n",
    "    subset = combined\n",
    "\n",
    "fig, ax = plt.subplots()\n",
    "    \n",
    "_ = ax.hist(subset['Probability'],bins=np.linspace(0,1,11))\n",
    "\n",
    "plt.axvline(np.mean(subset['Probability']),linewidth=2,linestyle='--')\n",
    "\n",
    "plt.title('Recognition\\n'+\\\n",
    "'(Mean = {:.2}{:s}) {:s}'.format(np.mean(subset['Probability']),getSignificance(subset['Probability']),\\\n",
    "         getDirection(np.mean(subset['Probability']),np.mean(df['Probability']))))\n",
    "plt.xlabel('Automation Probability')\n",
    "\n",
    "ax.spines['right'].set_visible(False)\n",
    "ax.spines['left'].set_visible(False)\n",
    "ax.spines['top'].set_visible(False)\n",
    "\n",
    "\n",
    "plt.tight_layout()\n",
    "\n",
    "plt.savefig('figures/automation_prob_recognition.png',dpi=300)"
   ]
  },
  {
   "cell_type": "code",
   "execution_count": 572,
   "metadata": {},
   "outputs": [],
   "source": [
    "combined = independenceDf.join(df,on = 'SOC',lsuffix='s',how='outer')"
   ]
  },
  {
   "cell_type": "code",
   "execution_count": 573,
   "metadata": {},
   "outputs": [
    {
     "name": "stdout",
     "output_type": "stream",
     "text": [
      "Ttest_indResult(statistic=2.5884038581718043, pvalue=0.009805325845354913)\n"
     ]
    },
    {
     "data": {
      "image/png": "[encoded data removed]",
      "text/plain": [
       "<Figure size 432x288 with 1 Axes>"
      ]
     },
     "metadata": {
      "needs_background": "light"
     },
     "output_type": "display_data"
    }
   ],
   "source": [
    "if True:\n",
    "    subset = combined[~pd.isna(combined['Job Zone'])]\n",
    "else:\n",
    "    subset = combined\n",
    "\n",
    "fig, ax = plt.subplots()\n",
    "\n",
    "    \n",
    "_ = ax.hist(subset['Probability'],bins=np.linspace(0,1,11))\n",
    "\n",
    "plt.axvline(np.mean(subset['Probability']),linewidth=2,linestyle='--')\n",
    "\n",
    "plt.title('Independence\\n'+\\\n",
    "'(Mean = {:.2}{:s}) {:s}'.format(np.mean(subset['Probability']),getSignificance(subset['Probability']),\\\n",
    "         getDirection(np.mean(subset['Probability']),np.mean(df['Probability']))))\n",
    "plt.xlabel('Automation Probability')\n",
    "\n",
    "ax.spines['right'].set_visible(False)\n",
    "ax.spines['left'].set_visible(False)\n",
    "ax.spines['top'].set_visible(False)\n",
    "\n",
    "\n",
    "plt.tight_layout()\n",
    "\n",
    "plt.savefig('figures/automation_prob_independence.png',dpi=300)"
   ]
  },
  {
   "cell_type": "code",
   "execution_count": 401,
   "metadata": {},
   "outputs": [],
   "source": [
    "combined = relationshipsDf.join(df,on = 'SOC',lsuffix='s',how='outer')"
   ]
  },
  {
   "cell_type": "code",
   "execution_count": 574,
   "metadata": {},
   "outputs": [
    {
     "name": "stdout",
     "output_type": "stream",
     "text": [
      "Ttest_indResult(statistic=2.5884038581718043, pvalue=0.009805325845354913)\n"
     ]
    },
    {
     "data": {
      "image/png": "[encoded data removed]",
      "text/plain": [
       "<Figure size 432x288 with 1 Axes>"
      ]
     },
     "metadata": {
      "needs_background": "light"
     },
     "output_type": "display_data"
    }
   ],
   "source": [
    "if True:\n",
    "    subset = combined[~pd.isna(combined['Job Zone'])]\n",
    "else:\n",
    "    subset = combined\n",
    "\n",
    "fig, ax = plt.subplots()\n",
    "\n",
    "    \n",
    "_ = ax.hist(subset['Probability'],bins=np.linspace(0,1,11))\n",
    "\n",
    "plt.axvline(np.mean(subset['Probability']),linewidth=2,linestyle='--')\n",
    "\n",
    "plt.title('Relationships\\n'+\\\n",
    "'(Mean = {:.2}{:s}) {:s}'.format(np.mean(subset['Probability']),getSignificance(subset['Probability']),\\\n",
    "         getDirection(np.mean(subset['Probability']),np.mean(df['Probability']))))\n",
    "plt.xlabel('Automation Probability')\n",
    "\n",
    "ax.spines['right'].set_visible(False)\n",
    "ax.spines['left'].set_visible(False)\n",
    "ax.spines['top'].set_visible(False)\n",
    "\n",
    "\n",
    "plt.tight_layout()\n",
    "\n",
    "plt.savefig('figures/automation_prob_relationships.png',dpi=300)"
   ]
  },
  {
   "cell_type": "code",
   "execution_count": 575,
   "metadata": {},
   "outputs": [],
   "source": [
    "combined = workingConditionsDf.join(df,on = 'SOC',lsuffix='s',how='outer')"
   ]
  },
  {
   "cell_type": "code",
   "execution_count": 576,
   "metadata": {},
   "outputs": [
    {
     "name": "stdout",
     "output_type": "stream",
     "text": [
      "Ttest_indResult(statistic=1.1757129012703236, pvalue=0.24006426346384346)\n"
     ]
    },
    {
     "data": {
      "image/png": "[encoded data removed]",
      "text/plain": [
       "<Figure size 432x288 with 1 Axes>"
      ]
     },
     "metadata": {
      "needs_background": "light"
     },
     "output_type": "display_data"
    }
   ],
   "source": [
    "if True:\n",
    "    subset = combined[~pd.isna(combined['Job Zone'])]\n",
    "else:\n",
    "    subset = combined\n",
    "\n",
    "fig, ax = plt.subplots()\n",
    "\n",
    "    \n",
    "_ = ax.hist(subset['Probability'],bins=np.linspace(0,1,11))\n",
    "\n",
    "plt.axvline(np.mean(subset['Probability']),linewidth=2,linestyle='--')\n",
    "\n",
    "plt.title('Working Conditions\\n'+\\\n",
    "'(Mean = {:.2}{:s}) {:s}'.format(np.mean(subset['Probability']),getSignificance(subset['Probability']),\\\n",
    "         getDirection(np.mean(subset['Probability']),np.mean(df['Probability']))))\n",
    "plt.xlabel('Automation Probability')\n",
    "\n",
    "ax.spines['right'].set_visible(False)\n",
    "ax.spines['left'].set_visible(False)\n",
    "ax.spines['top'].set_visible(False)\n",
    "\n",
    "\n",
    "plt.tight_layout()\n",
    "\n",
    "plt.savefig('figures/automation_prob_working_conditions.png',dpi=300)"
   ]
  },
  {
   "cell_type": "markdown",
   "metadata": {},
   "source": [
    "Montage \n",
    "\n",
    "```montage automation_prob_overall.png null: automation_prob_achievement.png automation_prob_independence.png automation_prob_recognition.png automation_prob_relationships.png automation_prob_support.png automation_prob_working_conditions.png -geometry +1+1 -tile 2x4 out.png```"
   ]
  },
  {
   "cell_type": "markdown",
   "metadata": {},
   "source": [
    "## Are Frey-Osbourne Predictable?"
   ]
  },
  {
   "cell_type": "code",
   "execution_count": 405,
   "metadata": {},
   "outputs": [],
   "source": [
    "combined['support'] = combined.apply(lambda x:int('Support' in x.values[2:6]),axis=1)\n",
    "combined['relationships'] = combined.apply(lambda x:int('Relationships' in x.values[2:6]),axis=1)\n",
    "combined['working_conditions'] = combined.apply(lambda x:int('Working Conditions' in x.values[2:6]),axis=1)\n",
    "combined['independence'] = combined.apply(lambda x:int('Independence' in x.values[2:6]),axis=1)\n",
    "combined['achievement'] = combined.apply(lambda x:int('Achievement' in x.values[2:6]),axis=1)\n",
    "combined['recognition'] = combined.apply(lambda x:int('Recognition' in x.values[2:6]),axis=1)"
   ]
  },
  {
   "cell_type": "code",
   "execution_count": 157,
   "metadata": {},
   "outputs": [],
   "source": [
    "workValues = list(combined.columns[-6:])"
   ]
  },
  {
   "cell_type": "code",
   "execution_count": 136,
   "metadata": {},
   "outputs": [],
   "source": [
    "combined.fillna(value = 0,inplace = True)\n",
    "# Where work values are missing set to zero"
   ]
  },
  {
   "cell_type": "code",
   "execution_count": 137,
   "metadata": {},
   "outputs": [
    {
     "data": {
      "text/html": [
       "<div>\n",
       "<style scoped>\n",
       "    .dataframe tbody tr th:only-of-type {\n",
       "        vertical-align: middle;\n",
       "    }\n",
       "\n",
       "    .dataframe tbody tr th {\n",
       "        vertical-align: top;\n",
       "    }\n",
       "\n",
       "    .dataframe thead th {\n",
       "        text-align: right;\n",
       "    }\n",
       "</style>\n",
       "<table border=\"1\" class=\"dataframe\">\n",
       "  <thead>\n",
       "    <tr style=\"text-align: right;\">\n",
       "      <th></th>\n",
       "      <th>O*NET-SOC Code</th>\n",
       "      <th>O*NET-SOC Title</th>\n",
       "      <th>Job Zone</th>\n",
       "      <th>First Work Value</th>\n",
       "      <th>Second Work Value</th>\n",
       "      <th>Third Work Value</th>\n",
       "      <th>SOCs</th>\n",
       "      <th>Rank</th>\n",
       "      <th>Probability</th>\n",
       "      <th>Label</th>\n",
       "      <th>SOC</th>\n",
       "      <th>Occupation</th>\n",
       "      <th>support</th>\n",
       "      <th>relationships</th>\n",
       "      <th>working_conditions</th>\n",
       "      <th>independence</th>\n",
       "      <th>achievement</th>\n",
       "      <th>recognition</th>\n",
       "    </tr>\n",
       "    <tr>\n",
       "      <th>SOC</th>\n",
       "      <th></th>\n",
       "      <th></th>\n",
       "      <th></th>\n",
       "      <th></th>\n",
       "      <th></th>\n",
       "      <th></th>\n",
       "      <th></th>\n",
       "      <th></th>\n",
       "      <th></th>\n",
       "      <th></th>\n",
       "      <th></th>\n",
       "      <th></th>\n",
       "      <th></th>\n",
       "      <th></th>\n",
       "      <th></th>\n",
       "      <th></th>\n",
       "      <th></th>\n",
       "      <th></th>\n",
       "    </tr>\n",
       "  </thead>\n",
       "  <tbody>\n",
       "    <tr>\n",
       "      <th>53-6011</th>\n",
       "      <td>53-6011.00</td>\n",
       "      <td>Bridge and Lock Tenders</td>\n",
       "      <td>1.0</td>\n",
       "      <td>Support</td>\n",
       "      <td>Relationships</td>\n",
       "      <td>Working Conditions</td>\n",
       "      <td>53-6011</td>\n",
       "      <td>644.0</td>\n",
       "      <td>0.97</td>\n",
       "      <td>-1</td>\n",
       "      <td>53-6011</td>\n",
       "      <td>Bridge and Lock Tenders</td>\n",
       "      <td>1</td>\n",
       "      <td>1</td>\n",
       "      <td>1</td>\n",
       "      <td>0</td>\n",
       "      <td>0</td>\n",
       "      <td>0</td>\n",
       "    </tr>\n",
       "    <tr>\n",
       "      <th>35-3021</th>\n",
       "      <td>35-3021.00</td>\n",
       "      <td>Combined Food Preparation and Serving Workers,...</td>\n",
       "      <td>1.0</td>\n",
       "      <td>Relationships</td>\n",
       "      <td>Support</td>\n",
       "      <td>Working Conditions</td>\n",
       "      <td>35-3021</td>\n",
       "      <td>571.0</td>\n",
       "      <td>0.92</td>\n",
       "      <td>-1</td>\n",
       "      <td>35-3021</td>\n",
       "      <td>Combined Food Preparation and Serving Workers ...</td>\n",
       "      <td>1</td>\n",
       "      <td>1</td>\n",
       "      <td>1</td>\n",
       "      <td>0</td>\n",
       "      <td>0</td>\n",
       "      <td>0</td>\n",
       "    </tr>\n",
       "    <tr>\n",
       "      <th>35-3022</th>\n",
       "      <td>35-3022.00</td>\n",
       "      <td>Counter Attendants, Cafeteria, Food Concession...</td>\n",
       "      <td>1.0</td>\n",
       "      <td>Relationships</td>\n",
       "      <td>Support</td>\n",
       "      <td>Working Conditions</td>\n",
       "      <td>35-3022</td>\n",
       "      <td>632.0</td>\n",
       "      <td>0.96</td>\n",
       "      <td>-1</td>\n",
       "      <td>35-3022</td>\n",
       "      <td>Counter Attendants Cafeteria Food Concession a...</td>\n",
       "      <td>1</td>\n",
       "      <td>1</td>\n",
       "      <td>1</td>\n",
       "      <td>0</td>\n",
       "      <td>0</td>\n",
       "      <td>0</td>\n",
       "    </tr>\n",
       "    <tr>\n",
       "      <th>45-2092</th>\n",
       "      <td>45-2092.02</td>\n",
       "      <td>Farmworkers and Laborers, Crop</td>\n",
       "      <td>1.0</td>\n",
       "      <td>Relationships</td>\n",
       "      <td>Support</td>\n",
       "      <td>Working Conditions</td>\n",
       "      <td>45-2092</td>\n",
       "      <td>0.0</td>\n",
       "      <td>0.00</td>\n",
       "      <td>0</td>\n",
       "      <td>0</td>\n",
       "      <td>0</td>\n",
       "      <td>1</td>\n",
       "      <td>1</td>\n",
       "      <td>1</td>\n",
       "      <td>0</td>\n",
       "      <td>0</td>\n",
       "      <td>0</td>\n",
       "    </tr>\n",
       "    <tr>\n",
       "      <th>35-2021</th>\n",
       "      <td>35-2021.00</td>\n",
       "      <td>Food Preparation Workers</td>\n",
       "      <td>1.0</td>\n",
       "      <td>Support</td>\n",
       "      <td>Relationships</td>\n",
       "      <td>Working Conditions</td>\n",
       "      <td>35-2021</td>\n",
       "      <td>508.0</td>\n",
       "      <td>0.87</td>\n",
       "      <td>-1</td>\n",
       "      <td>35-2021</td>\n",
       "      <td>Food Preparation Workers</td>\n",
       "      <td>1</td>\n",
       "      <td>1</td>\n",
       "      <td>1</td>\n",
       "      <td>0</td>\n",
       "      <td>0</td>\n",
       "      <td>0</td>\n",
       "    </tr>\n",
       "    <tr>\n",
       "      <th>35-3041</th>\n",
       "      <td>35-3041.00</td>\n",
       "      <td>Food Servers, Nonrestaurant</td>\n",
       "      <td>1.0</td>\n",
       "      <td>Relationships</td>\n",
       "      <td>Support</td>\n",
       "      <td>Working Conditions</td>\n",
       "      <td>35-3041</td>\n",
       "      <td>492.0</td>\n",
       "      <td>0.86</td>\n",
       "      <td>-1</td>\n",
       "      <td>35-3041</td>\n",
       "      <td>Food Servers Nonrestaurant</td>\n",
       "      <td>1</td>\n",
       "      <td>1</td>\n",
       "      <td>1</td>\n",
       "      <td>0</td>\n",
       "      <td>0</td>\n",
       "      <td>0</td>\n",
       "    </tr>\n",
       "    <tr>\n",
       "      <th>45-2041</th>\n",
       "      <td>45-2041.00</td>\n",
       "      <td>Graders and Sorters, Agricultural Products</td>\n",
       "      <td>1.0</td>\n",
       "      <td>Support</td>\n",
       "      <td>Working Conditions</td>\n",
       "      <td>Relationships</td>\n",
       "      <td>45-2041</td>\n",
       "      <td>274.0</td>\n",
       "      <td>0.41</td>\n",
       "      <td>-1</td>\n",
       "      <td>45-2041</td>\n",
       "      <td>Graders and Sorters Agricultural Products</td>\n",
       "      <td>1</td>\n",
       "      <td>1</td>\n",
       "      <td>1</td>\n",
       "      <td>0</td>\n",
       "      <td>0</td>\n",
       "      <td>0</td>\n",
       "    </tr>\n",
       "    <tr>\n",
       "      <th>47-3014</th>\n",
       "      <td>47-3014.00</td>\n",
       "      <td>Helpers--Painters, Paperhangers, Plasterers, a...</td>\n",
       "      <td>1.0</td>\n",
       "      <td>Relationships</td>\n",
       "      <td>Support</td>\n",
       "      <td>Working Conditions</td>\n",
       "      <td>47-3014</td>\n",
       "      <td>603.0</td>\n",
       "      <td>0.94</td>\n",
       "      <td>-1</td>\n",
       "      <td>47-3014</td>\n",
       "      <td>Helpers–Painters Paperhangers Plasterers and S...</td>\n",
       "      <td>1</td>\n",
       "      <td>1</td>\n",
       "      <td>1</td>\n",
       "      <td>0</td>\n",
       "      <td>0</td>\n",
       "      <td>0</td>\n",
       "    </tr>\n",
       "    <tr>\n",
       "      <th>45-3021</th>\n",
       "      <td>45-3021.00</td>\n",
       "      <td>Hunters and Trappers</td>\n",
       "      <td>1.0</td>\n",
       "      <td>Independence</td>\n",
       "      <td>Working Conditions</td>\n",
       "      <td>Relationships</td>\n",
       "      <td>45-3021</td>\n",
       "      <td>425.0</td>\n",
       "      <td>0.77</td>\n",
       "      <td>0</td>\n",
       "      <td>45-3021</td>\n",
       "      <td>Hunters and Trappers</td>\n",
       "      <td>0</td>\n",
       "      <td>1</td>\n",
       "      <td>1</td>\n",
       "      <td>1</td>\n",
       "      <td>0</td>\n",
       "      <td>0</td>\n",
       "    </tr>\n",
       "    <tr>\n",
       "      <th>37-3011</th>\n",
       "      <td>37-3011.00</td>\n",
       "      <td>Landscaping and Groundskeeping Workers</td>\n",
       "      <td>1.0</td>\n",
       "      <td>Relationships</td>\n",
       "      <td>Working Conditions</td>\n",
       "      <td>Support</td>\n",
       "      <td>37-3011</td>\n",
       "      <td>623.0</td>\n",
       "      <td>0.95</td>\n",
       "      <td>-1</td>\n",
       "      <td>37-3011</td>\n",
       "      <td>Landscaping and Groundskeeping Workers</td>\n",
       "      <td>1</td>\n",
       "      <td>1</td>\n",
       "      <td>1</td>\n",
       "      <td>0</td>\n",
       "      <td>0</td>\n",
       "      <td>0</td>\n",
       "    </tr>\n",
       "  </tbody>\n",
       "</table>\n",
       "</div>"
      ],
      "text/plain": [
       "        O*NET-SOC Code                                    O*NET-SOC Title  \\\n",
       "SOC                                                                         \n",
       "53-6011     53-6011.00                            Bridge and Lock Tenders   \n",
       "35-3021     35-3021.00  Combined Food Preparation and Serving Workers,...   \n",
       "35-3022     35-3022.00  Counter Attendants, Cafeteria, Food Concession...   \n",
       "45-2092     45-2092.02                     Farmworkers and Laborers, Crop   \n",
       "35-2021     35-2021.00                           Food Preparation Workers   \n",
       "35-3041     35-3041.00                        Food Servers, Nonrestaurant   \n",
       "45-2041     45-2041.00         Graders and Sorters, Agricultural Products   \n",
       "47-3014     47-3014.00  Helpers--Painters, Paperhangers, Plasterers, a...   \n",
       "45-3021     45-3021.00                               Hunters and Trappers   \n",
       "37-3011     37-3011.00             Landscaping and Groundskeeping Workers   \n",
       "\n",
       "         Job Zone First Work Value   Second Work Value    Third Work Value  \\\n",
       "SOC                                                                          \n",
       "53-6011       1.0          Support       Relationships  Working Conditions   \n",
       "35-3021       1.0    Relationships             Support  Working Conditions   \n",
       "35-3022       1.0    Relationships             Support  Working Conditions   \n",
       "45-2092       1.0    Relationships             Support  Working Conditions   \n",
       "35-2021       1.0          Support       Relationships  Working Conditions   \n",
       "35-3041       1.0    Relationships             Support  Working Conditions   \n",
       "45-2041       1.0          Support  Working Conditions       Relationships   \n",
       "47-3014       1.0    Relationships             Support  Working Conditions   \n",
       "45-3021       1.0     Independence  Working Conditions       Relationships   \n",
       "37-3011       1.0    Relationships  Working Conditions             Support   \n",
       "\n",
       "            SOCs   Rank  Probability Label      SOC  \\\n",
       "SOC                                                   \n",
       "53-6011  53-6011  644.0         0.97    -1  53-6011   \n",
       "35-3021  35-3021  571.0         0.92    -1  35-3021   \n",
       "35-3022  35-3022  632.0         0.96    -1  35-3022   \n",
       "45-2092  45-2092    0.0         0.00     0        0   \n",
       "35-2021  35-2021  508.0         0.87    -1  35-2021   \n",
       "35-3041  35-3041  492.0         0.86    -1  35-3041   \n",
       "45-2041  45-2041  274.0         0.41    -1  45-2041   \n",
       "47-3014  47-3014  603.0         0.94    -1  47-3014   \n",
       "45-3021  45-3021  425.0         0.77     0  45-3021   \n",
       "37-3011  37-3011  623.0         0.95    -1  37-3011   \n",
       "\n",
       "                                                Occupation  support  \\\n",
       "SOC                                                                   \n",
       "53-6011                            Bridge and Lock Tenders        1   \n",
       "35-3021  Combined Food Preparation and Serving Workers ...        1   \n",
       "35-3022  Counter Attendants Cafeteria Food Concession a...        1   \n",
       "45-2092                                                  0        1   \n",
       "35-2021                           Food Preparation Workers        1   \n",
       "35-3041                         Food Servers Nonrestaurant        1   \n",
       "45-2041          Graders and Sorters Agricultural Products        1   \n",
       "47-3014  Helpers–Painters Paperhangers Plasterers and S...        1   \n",
       "45-3021                               Hunters and Trappers        0   \n",
       "37-3011             Landscaping and Groundskeeping Workers        1   \n",
       "\n",
       "         relationships  working_conditions  independence  achievement  \\\n",
       "SOC                                                                     \n",
       "53-6011              1                   1             0            0   \n",
       "35-3021              1                   1             0            0   \n",
       "35-3022              1                   1             0            0   \n",
       "45-2092              1                   1             0            0   \n",
       "35-2021              1                   1             0            0   \n",
       "35-3041              1                   1             0            0   \n",
       "45-2041              1                   1             0            0   \n",
       "47-3014              1                   1             0            0   \n",
       "45-3021              1                   1             1            0   \n",
       "37-3011              1                   1             0            0   \n",
       "\n",
       "         recognition  \n",
       "SOC                   \n",
       "53-6011            0  \n",
       "35-3021            0  \n",
       "35-3022            0  \n",
       "45-2092            0  \n",
       "35-2021            0  \n",
       "35-3041            0  \n",
       "45-2041            0  \n",
       "47-3014            0  \n",
       "45-3021            0  \n",
       "37-3011            0  "
      ]
     },
     "execution_count": 137,
     "metadata": {},
     "output_type": "execute_result"
    }
   ],
   "source": [
    "combined.head(10)"
   ]
  },
  {
   "cell_type": "code",
   "execution_count": 146,
   "metadata": {},
   "outputs": [],
   "source": [
    "from sklearn import linear_model\n",
    "from sklearn.model_selection import train_test_split\n",
    "import matplotlib.pyplot as plt\n",
    "%matplotlib inline\n",
    "\n",
    "reg = linear_model.LinearRegression()"
   ]
  },
  {
   "cell_type": "code",
   "execution_count": 159,
   "metadata": {},
   "outputs": [
    {
     "data": {
      "text/plain": [
       "['support',\n",
       " 'relationships',\n",
       " 'working_conditions',\n",
       " 'independence',\n",
       " 'achievement',\n",
       " 'recognition',\n",
       " 'Job Zone']"
      ]
     },
     "execution_count": 159,
     "metadata": {},
     "output_type": "execute_result"
    }
   ],
   "source": [
    "workValues+['Job Zone']"
   ]
  },
  {
   "cell_type": "code",
   "execution_count": 163,
   "metadata": {},
   "outputs": [],
   "source": [
    "X_train, X_test, y_train, y_test = train_test_split(combined[workValues], combined['Probability']\\\n",
    "                                                    , test_size=0.2, random_state=0)"
   ]
  },
  {
   "cell_type": "code",
   "execution_count": 164,
   "metadata": {},
   "outputs": [
    {
     "data": {
      "text/plain": [
       "LinearRegression(copy_X=True, fit_intercept=True, n_jobs=1, normalize=False)"
      ]
     },
     "execution_count": 164,
     "metadata": {},
     "output_type": "execute_result"
    }
   ],
   "source": [
    "reg.fit(X_train,y_train)"
   ]
  },
  {
   "cell_type": "code",
   "execution_count": 165,
   "metadata": {},
   "outputs": [
    {
     "data": {
      "text/plain": [
       "0.006944274470771505"
      ]
     },
     "execution_count": 165,
     "metadata": {},
     "output_type": "execute_result"
    }
   ],
   "source": [
    "reg.score(X_test,y_test)"
   ]
  },
  {
   "cell_type": "code",
   "execution_count": 150,
   "metadata": {},
   "outputs": [
    {
     "data": {
      "text/plain": [
       "array([ 0.28476772, -0.01593159, -0.12548551, -0.26616442, -0.07334202,\n",
       "       -0.18030069])"
      ]
     },
     "execution_count": 150,
     "metadata": {},
     "output_type": "execute_result"
    }
   ],
   "source": [
    "reg.coef_"
   ]
  },
  {
   "cell_type": "code",
   "execution_count": 152,
   "metadata": {},
   "outputs": [
    {
     "data": {
      "text/plain": [
       "[<matplotlib.lines.Line2D at 0x1a25c195f8>]"
      ]
     },
     "execution_count": 152,
     "metadata": {},
     "output_type": "execute_result"
    },
    {
     "data": {
      "image/png": "[encoded data removed]",
      "text/plain": [
       "<Figure size 432x288 with 1 Axes>"
      ]
     },
     "metadata": {
      "needs_background": "light"
     },
     "output_type": "display_data"
    }
   ],
   "source": [
    "plt.plot(y_test,reg.predict(X_test),'.')"
   ]
  },
  {
   "cell_type": "markdown",
   "metadata": {},
   "source": [
    "## All Job Zone Values"
   ]
  },
  {
   "cell_type": "code",
   "execution_count": 199,
   "metadata": {},
   "outputs": [],
   "source": [
    "import re"
   ]
  },
  {
   "cell_type": "code",
   "execution_count": 424,
   "metadata": {},
   "outputs": [
    {
     "data": {
      "image/png": "[encoded data removed]",
      "text/plain": [
       "<Figure size 432x288 with 1 Axes>"
      ]
     },
     "metadata": {
      "needs_background": "light"
     },
     "output_type": "display_data"
    },
    {
     "data": {
      "image/png": "[encoded data removed]",
      "text/plain": [
       "<Figure size 432x288 with 1 Axes>"
      ]
     },
     "metadata": {
      "needs_background": "light"
     },
     "output_type": "display_data"
    },
    {
     "data": {
      "image/png": "[encoded data removed]",
      "text/plain": [
       "<Figure size 432x288 with 1 Axes>"
      ]
     },
     "metadata": {
      "needs_background": "light"
     },
     "output_type": "display_data"
    },
    {
     "data": {
      "image/png": "[encoded data removed]",
      "text/plain": [
       "<Figure size 432x288 with 1 Axes>"
      ]
     },
     "metadata": {
      "needs_background": "light"
     },
     "output_type": "display_data"
    },
    {
     "data": {
      "image/png": "[encoded data removed]",
      "text/plain": [
       "<Figure size 432x288 with 1 Axes>"
      ]
     },
     "metadata": {
      "needs_background": "light"
     },
     "output_type": "display_data"
    },
    {
     "data": {
      "image/png": "[encoded data removed]",
      "text/plain": [
       "<Figure size 432x288 with 1 Axes>"
      ]
     },
     "metadata": {
      "needs_background": "light"
     },
     "output_type": "display_data"
    }
   ],
   "source": [
    "for name,dummyDf in zip(['independence','recognition','working conditions','support','relationships','achievement'],\\\n",
    "            [independenceDf,recogntitionDf,workingConditionsDf,supportDf,relationshipsDf,achievementDf]):\n",
    "\n",
    "    fig, ax = plt.subplots()\n",
    "    ax.bar([r+0.4 for r in range(1,6)],[l/float(dummyDf.shape[0]) \\\n",
    "                    for l in list(collections.Counter(dummyDf['Job Zone']).values())],0.4,label = str.capitalize(name))\n",
    "    ax.bar(range(1,6),[l/float(allJobZoneDf.shape[0]) \\\n",
    "                    for l in list(collections.Counter(allJobZoneDf['Job Zone']).values())],0.4,label = 'All')\n",
    "    plt.legend(loc='upper left',fontsize=12)\n",
    "    _ = plt.xlabel('Job Zone')\n",
    "    _ = plt.ylabel('Proportion')\n",
    "    \n",
    "    plt.ylim(0,0.6)\n",
    "    \n",
    "    plt.axvline(dummyDf['Job Zone'].mean(),linestyle='--',linewidth=3)\n",
    "    plt.axvline(allJobZoneDf['Job Zone'].mean(),linestyle='--',color=sns.color_palette()[1],linewidth=3)\n",
    "    \n",
    "    plt.tight_layout()\n",
    "\n",
    "    plt.savefig('figures/job_zone_{}.png'.format(re.sub(' ','_',name)),dpi = 300)"
   ]
  },
  {
   "cell_type": "markdown",
   "metadata": {},
   "source": [
    "montage job_zone_achievement.png job_zone_independence.png job_zone_recognition.png job_zone_relationships.png job_zone_support.png job_zone_working_conditions.png -geometry +1+1 -tile 2x3 out_job_zone.png"
   ]
  },
  {
   "cell_type": "markdown",
   "metadata": {},
   "source": [
    "## Job Network"
   ]
  },
  {
   "cell_type": "code",
   "execution_count": 425,
   "metadata": {},
   "outputs": [],
   "source": [
    "import json"
   ]
  },
  {
   "cell_type": "code",
   "execution_count": 426,
   "metadata": {},
   "outputs": [],
   "source": [
    "with open('game_data/jobNetwork.json') as inFile:\n",
    "    d = json.load(inFile)"
   ]
  },
  {
   "cell_type": "code",
   "execution_count": 428,
   "metadata": {},
   "outputs": [
    {
     "data": {
      "text/plain": [
       "['185', '266', '325', '408', '438', '537']"
      ]
     },
     "execution_count": 428,
     "metadata": {},
     "output_type": "execute_result"
    }
   ],
   "source": [
    "d['0']"
   ]
  },
  {
   "cell_type": "code",
   "execution_count": 435,
   "metadata": {},
   "outputs": [],
   "source": [
    "! mv /Users/alexisrutherford/Downloads/jobJobSkillSims\\ \\(1\\).tsv game_data/"
   ]
  },
  {
   "cell_type": "code",
   "execution_count": 437,
   "metadata": {},
   "outputs": [],
   "source": [
    "jobJobDf = pd.read_csv('game_data/jobJobSkillSims (1).tsv',sep = '\\t')"
   ]
  },
  {
   "cell_type": "code",
   "execution_count": 440,
   "metadata": {},
   "outputs": [],
   "source": [
    "jobJobDf.set_index('SOC 1',inplace=True)"
   ]
  },
  {
   "cell_type": "code",
   "execution_count": 474,
   "metadata": {},
   "outputs": [],
   "source": [
    "jobJobDf['SOC 1'] = jobJobDf.index"
   ]
  },
  {
   "cell_type": "code",
   "execution_count": 475,
   "metadata": {},
   "outputs": [
    {
     "data": {
      "text/html": [
       "<div>\n",
       "<style scoped>\n",
       "    .dataframe tbody tr th:only-of-type {\n",
       "        vertical-align: middle;\n",
       "    }\n",
       "\n",
       "    .dataframe tbody tr th {\n",
       "        vertical-align: top;\n",
       "    }\n",
       "\n",
       "    .dataframe thead th {\n",
       "        text-align: right;\n",
       "    }\n",
       "</style>\n",
       "<table border=\"1\" class=\"dataframe\">\n",
       "  <thead>\n",
       "    <tr style=\"text-align: right;\">\n",
       "      <th></th>\n",
       "      <th>Title 1</th>\n",
       "      <th>SOC 2</th>\n",
       "      <th>Title 2</th>\n",
       "      <th>Skill Sim</th>\n",
       "      <th>assort</th>\n",
       "      <th>SOC 1</th>\n",
       "    </tr>\n",
       "    <tr>\n",
       "      <th>SOC 1</th>\n",
       "      <th></th>\n",
       "      <th></th>\n",
       "      <th></th>\n",
       "      <th></th>\n",
       "      <th></th>\n",
       "      <th></th>\n",
       "    </tr>\n",
       "  </thead>\n",
       "  <tbody>\n",
       "    <tr>\n",
       "      <th>13-2011</th>\n",
       "      <td>accountants and auditors</td>\n",
       "      <td>27-2011</td>\n",
       "      <td>actors</td>\n",
       "      <td>0.454545</td>\n",
       "      <td>False</td>\n",
       "      <td>13-2011</td>\n",
       "    </tr>\n",
       "    <tr>\n",
       "      <th>13-2011</th>\n",
       "      <td>accountants and auditors</td>\n",
       "      <td>15-2011</td>\n",
       "      <td>actuaries</td>\n",
       "      <td>0.826087</td>\n",
       "      <td>False</td>\n",
       "      <td>13-2011</td>\n",
       "    </tr>\n",
       "    <tr>\n",
       "      <th>13-2011</th>\n",
       "      <td>accountants and auditors</td>\n",
       "      <td>51-9191</td>\n",
       "      <td>adhesive bonding machine operators and tenders</td>\n",
       "      <td>0.052632</td>\n",
       "      <td>False</td>\n",
       "      <td>13-2011</td>\n",
       "    </tr>\n",
       "    <tr>\n",
       "      <th>13-2011</th>\n",
       "      <td>accountants and auditors</td>\n",
       "      <td>23-1021</td>\n",
       "      <td>administrative law judges, adjudicators, and h...</td>\n",
       "      <td>0.533333</td>\n",
       "      <td>False</td>\n",
       "      <td>13-2011</td>\n",
       "    </tr>\n",
       "    <tr>\n",
       "      <th>13-2011</th>\n",
       "      <td>accountants and auditors</td>\n",
       "      <td>11-3011</td>\n",
       "      <td>administrative services managers</td>\n",
       "      <td>0.633588</td>\n",
       "      <td>False</td>\n",
       "      <td>13-2011</td>\n",
       "    </tr>\n",
       "  </tbody>\n",
       "</table>\n",
       "</div>"
      ],
      "text/plain": [
       "                          Title 1    SOC 2  \\\n",
       "SOC 1                                        \n",
       "13-2011  accountants and auditors  27-2011   \n",
       "13-2011  accountants and auditors  15-2011   \n",
       "13-2011  accountants and auditors  51-9191   \n",
       "13-2011  accountants and auditors  23-1021   \n",
       "13-2011  accountants and auditors  11-3011   \n",
       "\n",
       "                                                   Title 2  Skill Sim  assort  \\\n",
       "SOC 1                                                                           \n",
       "13-2011                                             actors   0.454545   False   \n",
       "13-2011                                          actuaries   0.826087   False   \n",
       "13-2011     adhesive bonding machine operators and tenders   0.052632   False   \n",
       "13-2011  administrative law judges, adjudicators, and h...   0.533333   False   \n",
       "13-2011                   administrative services managers   0.633588   False   \n",
       "\n",
       "           SOC 1  \n",
       "SOC 1             \n",
       "13-2011  13-2011  \n",
       "13-2011  13-2011  \n",
       "13-2011  13-2011  \n",
       "13-2011  13-2011  \n",
       "13-2011  13-2011  "
      ]
     },
     "execution_count": 475,
     "metadata": {},
     "output_type": "execute_result"
    }
   ],
   "source": [
    "jobJobDf.head()"
   ]
  },
  {
   "cell_type": "code",
   "execution_count": 439,
   "metadata": {},
   "outputs": [
    {
     "data": {
      "text/html": [
       "<div>\n",
       "<style scoped>\n",
       "    .dataframe tbody tr th:only-of-type {\n",
       "        vertical-align: middle;\n",
       "    }\n",
       "\n",
       "    .dataframe tbody tr th {\n",
       "        vertical-align: top;\n",
       "    }\n",
       "\n",
       "    .dataframe thead th {\n",
       "        text-align: right;\n",
       "    }\n",
       "</style>\n",
       "<table border=\"1\" class=\"dataframe\">\n",
       "  <thead>\n",
       "    <tr style=\"text-align: right;\">\n",
       "      <th></th>\n",
       "      <th>O*NET-SOC Code</th>\n",
       "      <th>O*NET-SOC Title</th>\n",
       "      <th>Job Zone</th>\n",
       "      <th>First Work Value</th>\n",
       "      <th>Second Work Value</th>\n",
       "      <th>Third Work Value</th>\n",
       "      <th>SOC</th>\n",
       "    </tr>\n",
       "    <tr>\n",
       "      <th>SOC</th>\n",
       "      <th></th>\n",
       "      <th></th>\n",
       "      <th></th>\n",
       "      <th></th>\n",
       "      <th></th>\n",
       "      <th></th>\n",
       "      <th></th>\n",
       "    </tr>\n",
       "  </thead>\n",
       "  <tbody>\n",
       "    <tr>\n",
       "      <th>39-3091</th>\n",
       "      <td>39-3091.00</td>\n",
       "      <td>Amusement and Recreation Attendants</td>\n",
       "      <td>1</td>\n",
       "      <td>Support</td>\n",
       "      <td>Independence</td>\n",
       "      <td>Relationships</td>\n",
       "      <td>39-3091</td>\n",
       "    </tr>\n",
       "    <tr>\n",
       "      <th>53-6011</th>\n",
       "      <td>53-6011.00</td>\n",
       "      <td>Bridge and Lock Tenders</td>\n",
       "      <td>1</td>\n",
       "      <td>Support</td>\n",
       "      <td>Relationships</td>\n",
       "      <td>Working Conditions</td>\n",
       "      <td>53-6011</td>\n",
       "    </tr>\n",
       "    <tr>\n",
       "      <th>53-7011</th>\n",
       "      <td>53-7011.00</td>\n",
       "      <td>Conveyor Operators and Tenders</td>\n",
       "      <td>1</td>\n",
       "      <td>Support</td>\n",
       "      <td>Relationships</td>\n",
       "      <td>Independence</td>\n",
       "      <td>53-7011</td>\n",
       "    </tr>\n",
       "    <tr>\n",
       "      <th>47-5011</th>\n",
       "      <td>47-5011.00</td>\n",
       "      <td>Derrick Operators, Oil and Gas</td>\n",
       "      <td>1</td>\n",
       "      <td>Support</td>\n",
       "      <td>Relationships</td>\n",
       "      <td>Working Conditions</td>\n",
       "      <td>47-5011</td>\n",
       "    </tr>\n",
       "    <tr>\n",
       "      <th>49-9093</th>\n",
       "      <td>49-9093.00</td>\n",
       "      <td>Fabric Menders, Except Garment</td>\n",
       "      <td>1</td>\n",
       "      <td>Support</td>\n",
       "      <td>Achievement</td>\n",
       "      <td>Working Conditions</td>\n",
       "      <td>49-9093</td>\n",
       "    </tr>\n",
       "  </tbody>\n",
       "</table>\n",
       "</div>"
      ],
      "text/plain": [
       "        O*NET-SOC Code                      O*NET-SOC Title  Job Zone  \\\n",
       "SOC                                                                     \n",
       "39-3091     39-3091.00  Amusement and Recreation Attendants         1   \n",
       "53-6011     53-6011.00              Bridge and Lock Tenders         1   \n",
       "53-7011     53-7011.00       Conveyor Operators and Tenders         1   \n",
       "47-5011     47-5011.00       Derrick Operators, Oil and Gas         1   \n",
       "49-9093     49-9093.00       Fabric Menders, Except Garment         1   \n",
       "\n",
       "        First Work Value Second Work Value    Third Work Value      SOC  \n",
       "SOC                                                                      \n",
       "39-3091          Support      Independence       Relationships  39-3091  \n",
       "53-6011          Support     Relationships  Working Conditions  53-6011  \n",
       "53-7011          Support     Relationships        Independence  53-7011  \n",
       "47-5011          Support     Relationships  Working Conditions  47-5011  \n",
       "49-9093          Support       Achievement  Working Conditions  49-9093  "
      ]
     },
     "execution_count": 439,
     "metadata": {},
     "output_type": "execute_result"
    }
   ],
   "source": [
    "supportDf.head()"
   ]
  },
  {
   "cell_type": "code",
   "execution_count": 446,
   "metadata": {},
   "outputs": [
    {
     "data": {
      "text/html": [
       "<div>\n",
       "<style scoped>\n",
       "    .dataframe tbody tr th:only-of-type {\n",
       "        vertical-align: middle;\n",
       "    }\n",
       "\n",
       "    .dataframe tbody tr th {\n",
       "        vertical-align: top;\n",
       "    }\n",
       "\n",
       "    .dataframe thead th {\n",
       "        text-align: right;\n",
       "    }\n",
       "</style>\n",
       "<table border=\"1\" class=\"dataframe\">\n",
       "  <thead>\n",
       "    <tr style=\"text-align: right;\">\n",
       "      <th></th>\n",
       "      <th>O*NET-SOC Code</th>\n",
       "      <th>O*NET-SOC Title</th>\n",
       "      <th>Job Zone</th>\n",
       "      <th>First Work Value</th>\n",
       "      <th>Second Work Value</th>\n",
       "      <th>Third Work Value</th>\n",
       "      <th>SOC</th>\n",
       "    </tr>\n",
       "    <tr>\n",
       "      <th>SOC</th>\n",
       "      <th></th>\n",
       "      <th></th>\n",
       "      <th></th>\n",
       "      <th></th>\n",
       "      <th></th>\n",
       "      <th></th>\n",
       "      <th></th>\n",
       "    </tr>\n",
       "  </thead>\n",
       "  <tbody>\n",
       "    <tr>\n",
       "      <th>25-1191</th>\n",
       "      <td>25-1191.00</td>\n",
       "      <td>Graduate Teaching Assistants</td>\n",
       "      <td>5</td>\n",
       "      <td>Achievement</td>\n",
       "      <td>Independence</td>\n",
       "      <td>Support</td>\n",
       "      <td>25-1191</td>\n",
       "    </tr>\n",
       "    <tr>\n",
       "      <th>23-1012</th>\n",
       "      <td>23-1012.00</td>\n",
       "      <td>Judicial Law Clerks</td>\n",
       "      <td>5</td>\n",
       "      <td>Achievement</td>\n",
       "      <td>Working Conditions</td>\n",
       "      <td>Support</td>\n",
       "      <td>23-1012</td>\n",
       "    </tr>\n",
       "    <tr>\n",
       "      <th>29-1151</th>\n",
       "      <td>29-1151.00</td>\n",
       "      <td>Nurse Anesthetists</td>\n",
       "      <td>5</td>\n",
       "      <td>Support</td>\n",
       "      <td>Relationships</td>\n",
       "      <td>Achievement</td>\n",
       "      <td>29-1151</td>\n",
       "    </tr>\n",
       "    <tr>\n",
       "      <th>29-1051</th>\n",
       "      <td>29-1051.00</td>\n",
       "      <td>Pharmacists</td>\n",
       "      <td>5</td>\n",
       "      <td>Recognition</td>\n",
       "      <td>Support</td>\n",
       "      <td>Relationships</td>\n",
       "      <td>29-1051</td>\n",
       "    </tr>\n",
       "    <tr>\n",
       "      <th>21-1015</th>\n",
       "      <td>21-1015.00</td>\n",
       "      <td>Rehabilitation Counselors</td>\n",
       "      <td>5</td>\n",
       "      <td>Relationships</td>\n",
       "      <td>Achievement</td>\n",
       "      <td>Support</td>\n",
       "      <td>21-1015</td>\n",
       "    </tr>\n",
       "  </tbody>\n",
       "</table>\n",
       "</div>"
      ],
      "text/plain": [
       "        O*NET-SOC Code               O*NET-SOC Title  Job Zone  \\\n",
       "SOC                                                              \n",
       "25-1191     25-1191.00  Graduate Teaching Assistants         5   \n",
       "23-1012     23-1012.00           Judicial Law Clerks         5   \n",
       "29-1151     29-1151.00            Nurse Anesthetists         5   \n",
       "29-1051     29-1051.00                   Pharmacists         5   \n",
       "21-1015     21-1015.00     Rehabilitation Counselors         5   \n",
       "\n",
       "        First Work Value   Second Work Value Third Work Value      SOC  \n",
       "SOC                                                                     \n",
       "25-1191      Achievement        Independence          Support  25-1191  \n",
       "23-1012      Achievement  Working Conditions          Support  23-1012  \n",
       "29-1151          Support       Relationships      Achievement  29-1151  \n",
       "29-1051      Recognition             Support    Relationships  29-1051  \n",
       "21-1015    Relationships         Achievement          Support  21-1015  "
      ]
     },
     "execution_count": 446,
     "metadata": {},
     "output_type": "execute_result"
    }
   ],
   "source": [
    "supportDf.tail()"
   ]
  },
  {
   "cell_type": "code",
   "execution_count": 447,
   "metadata": {},
   "outputs": [
    {
     "data": {
      "text/plain": [
       "(294528, 4)"
      ]
     },
     "execution_count": 447,
     "metadata": {},
     "output_type": "execute_result"
    }
   ],
   "source": [
    "jobJobDf.shape"
   ]
  },
  {
   "cell_type": "code",
   "execution_count": 516,
   "metadata": {},
   "outputs": [],
   "source": [
    "def bothHasValue(line,valueDf):\n",
    "    if line[1] in valueDf.index and line[5] in valueDf.index:\n",
    "        return True\n",
    "    else:\n",
    "        return False"
   ]
  },
  {
   "cell_type": "code",
   "execution_count": 461,
   "metadata": {},
   "outputs": [
    {
     "data": {
      "text/html": [
       "<div>\n",
       "<style scoped>\n",
       "    .dataframe tbody tr th:only-of-type {\n",
       "        vertical-align: middle;\n",
       "    }\n",
       "\n",
       "    .dataframe tbody tr th {\n",
       "        vertical-align: top;\n",
       "    }\n",
       "\n",
       "    .dataframe thead th {\n",
       "        text-align: right;\n",
       "    }\n",
       "</style>\n",
       "<table border=\"1\" class=\"dataframe\">\n",
       "  <thead>\n",
       "    <tr style=\"text-align: right;\">\n",
       "      <th></th>\n",
       "      <th>Title 1</th>\n",
       "      <th>SOC 2</th>\n",
       "      <th>Title 2</th>\n",
       "      <th>Skill Sim</th>\n",
       "      <th>assort</th>\n",
       "    </tr>\n",
       "    <tr>\n",
       "      <th>SOC 1</th>\n",
       "      <th></th>\n",
       "      <th></th>\n",
       "      <th></th>\n",
       "      <th></th>\n",
       "      <th></th>\n",
       "    </tr>\n",
       "  </thead>\n",
       "  <tbody>\n",
       "    <tr>\n",
       "      <th>13-2011</th>\n",
       "      <td>accountants and auditors</td>\n",
       "      <td>27-2011</td>\n",
       "      <td>actors</td>\n",
       "      <td>0.454545</td>\n",
       "      <td>False</td>\n",
       "    </tr>\n",
       "    <tr>\n",
       "      <th>13-2011</th>\n",
       "      <td>accountants and auditors</td>\n",
       "      <td>15-2011</td>\n",
       "      <td>actuaries</td>\n",
       "      <td>0.826087</td>\n",
       "      <td>False</td>\n",
       "    </tr>\n",
       "    <tr>\n",
       "      <th>13-2011</th>\n",
       "      <td>accountants and auditors</td>\n",
       "      <td>51-9191</td>\n",
       "      <td>adhesive bonding machine operators and tenders</td>\n",
       "      <td>0.052632</td>\n",
       "      <td>False</td>\n",
       "    </tr>\n",
       "    <tr>\n",
       "      <th>13-2011</th>\n",
       "      <td>accountants and auditors</td>\n",
       "      <td>23-1021</td>\n",
       "      <td>administrative law judges, adjudicators, and h...</td>\n",
       "      <td>0.533333</td>\n",
       "      <td>False</td>\n",
       "    </tr>\n",
       "    <tr>\n",
       "      <th>13-2011</th>\n",
       "      <td>accountants and auditors</td>\n",
       "      <td>11-3011</td>\n",
       "      <td>administrative services managers</td>\n",
       "      <td>0.633588</td>\n",
       "      <td>False</td>\n",
       "    </tr>\n",
       "  </tbody>\n",
       "</table>\n",
       "</div>"
      ],
      "text/plain": [
       "                          Title 1    SOC 2  \\\n",
       "SOC 1                                        \n",
       "13-2011  accountants and auditors  27-2011   \n",
       "13-2011  accountants and auditors  15-2011   \n",
       "13-2011  accountants and auditors  51-9191   \n",
       "13-2011  accountants and auditors  23-1021   \n",
       "13-2011  accountants and auditors  11-3011   \n",
       "\n",
       "                                                   Title 2  Skill Sim  assort  \n",
       "SOC 1                                                                          \n",
       "13-2011                                             actors   0.454545   False  \n",
       "13-2011                                          actuaries   0.826087   False  \n",
       "13-2011     adhesive bonding machine operators and tenders   0.052632   False  \n",
       "13-2011  administrative law judges, adjudicators, and h...   0.533333   False  \n",
       "13-2011                   administrative services managers   0.633588   False  "
      ]
     },
     "execution_count": 461,
     "metadata": {},
     "output_type": "execute_result"
    }
   ],
   "source": [
    "jobJobDf.head()"
   ]
  },
  {
   "cell_type": "code",
   "execution_count": 542,
   "metadata": {},
   "outputs": [
    {
     "name": "stdout",
     "output_type": "stream",
     "text": [
      "10878 job pairs are achievement assortative (3.69%)\n",
      "ratio = 2.29\n",
      "11325 job pairs are independence assortative (3.85%)\n",
      "ratio = 1.49\n",
      "1225 job pairs are recognition assortative (0.42%)\n",
      "ratio = 1.94\n",
      "29890 job pairs are relationships assortative (10.15%)\n",
      "ratio = 1.41\n",
      "43660 job pairs are support assortative (14.82%)\n",
      "ratio = 1.36\n",
      "4950 job pairs are working conditions assortative (1.68%)\n",
      "ratio = 1.36\n"
     ]
    },
    {
     "data": {
      "image/png": "[encoded data removed]",
      "text/plain": [
       "<Figure size 432x288 with 1 Axes>"
      ]
     },
     "metadata": {
      "needs_background": "light"
     },
     "output_type": "display_data"
    }
   ],
   "source": [
    "for dummyDf,name in zip([achievementDf,independenceDf,recogntitionDf,relationshipsDf,supportDf,workingConditionsDf],\\\n",
    "        ['achievement','independence','recognition','relationships','support','working conditions']):\n",
    "    \n",
    "    jobJobDf['assort'] = jobJobDf.apply(bothHasValue,axis = 1,valueDf = dummyDf)\n",
    "    \n",
    "    prop = float(jobJobDf['assort'].sum())/jobJobDf.shape[0]\n",
    "    \n",
    "    print('{:d} job pairs are {:s} assortative ({:.2f}%)'.format(jobJobDf['assort'].sum(),name,\\\n",
    "                                            100*prop))\n",
    "    \n",
    "    expected = dummyDf.shape[0]\n",
    "    \n",
    "    print('ratio = {:.2f}'.format(((expected/df.shape[0])**2)/prop))\n",
    "    \n",
    "    ax = sns.kdeplot(jobJobDf[jobJobDf['assort']]['Skill Sim'],legend = False,linewidth = 3)\n",
    "\n",
    "    plt.axvline(jobJobDf[jobJobDf['assort']]['Skill Sim'].mean(),linestyle='--',linewidth=3)\n",
    "    plt.axvline(jobJobDf['Skill Sim'].mean(),linestyle='--',linewidth=3,color='grey')\n",
    "    \n",
    "    plt.title('{:s}'.format(str.capitalize(name)))\n",
    "    _ = plt.xlim(0,1)\n",
    "\n",
    "    _ = plt.xlabel('Similarity')\n",
    "    \n",
    "    plt.yticks([],[])\n",
    "    \n",
    "    ax.spines['right'].set_visible(False)\n",
    "    ax.spines['left'].set_visible(False)\n",
    "\n",
    "    ax.spines['top'].set_visible(False)\n",
    "    \n",
    "    plt.tight_layout()\n",
    "    \n",
    "    plt.savefig('figures/assort_{:s}.png'.format(re.sub(' ','_',name)),dpi=300)\n",
    "    \n",
    "    plt.cla()\n",
    "    "
   ]
  },
  {
   "cell_type": "markdown",
   "metadata": {},
   "source": [
    "```montage assort_* -geometry +1+1 -tile 2x3 out_assort.png```"
   ]
  },
  {
   "cell_type": "markdown",
   "metadata": {},
   "source": [
    "## Projections"
   ]
  },
  {
   "cell_type": "code",
   "execution_count": 609,
   "metadata": {},
   "outputs": [],
   "source": [
    "projectionsDf = pd.read_excel('occupation.xlsx',sheet_name='Table 1.2')"
   ]
  },
  {
   "cell_type": "code",
   "execution_count": 610,
   "metadata": {},
   "outputs": [
    {
     "data": {
      "text/html": [
       "<div>\n",
       "<style scoped>\n",
       "    .dataframe tbody tr th:only-of-type {\n",
       "        vertical-align: middle;\n",
       "    }\n",
       "\n",
       "    .dataframe tbody tr th {\n",
       "        vertical-align: top;\n",
       "    }\n",
       "\n",
       "    .dataframe thead th {\n",
       "        text-align: right;\n",
       "    }\n",
       "</style>\n",
       "<table border=\"1\" class=\"dataframe\">\n",
       "  <thead>\n",
       "    <tr style=\"text-align: right;\">\n",
       "      <th></th>\n",
       "      <th>Table 1.2 Employment by detailed occupation, 2016 and projected 2026\n",
       "(Numbers in thousands)</th>\n",
       "      <th>Unnamed: 1</th>\n",
       "      <th>Unnamed: 2</th>\n",
       "      <th>Unnamed: 3</th>\n",
       "      <th>Unnamed: 4</th>\n",
       "      <th>Unnamed: 5</th>\n",
       "      <th>Unnamed: 6</th>\n",
       "      <th>Unnamed: 7</th>\n",
       "      <th>Unnamed: 8</th>\n",
       "      <th>Unnamed: 9</th>\n",
       "    </tr>\n",
       "  </thead>\n",
       "  <tbody>\n",
       "    <tr>\n",
       "      <th>0</th>\n",
       "      <td>2016 National Employment Matrix title and code</td>\n",
       "      <td>NaN</td>\n",
       "      <td>Occupation type</td>\n",
       "      <td>Employment</td>\n",
       "      <td>NaN</td>\n",
       "      <td>NaN</td>\n",
       "      <td>NaN</td>\n",
       "      <td>Change, 2016-26</td>\n",
       "      <td>NaN</td>\n",
       "      <td>Occupational openings, 2016-26 annual average</td>\n",
       "    </tr>\n",
       "    <tr>\n",
       "      <th>1</th>\n",
       "      <td>NaN</td>\n",
       "      <td>NaN</td>\n",
       "      <td>NaN</td>\n",
       "      <td>Number</td>\n",
       "      <td>NaN</td>\n",
       "      <td>Percent distribution</td>\n",
       "      <td>NaN</td>\n",
       "      <td>NaN</td>\n",
       "      <td>NaN</td>\n",
       "      <td>NaN</td>\n",
       "    </tr>\n",
       "    <tr>\n",
       "      <th>2</th>\n",
       "      <td>NaN</td>\n",
       "      <td>NaN</td>\n",
       "      <td>NaN</td>\n",
       "      <td>2016</td>\n",
       "      <td>2026.0</td>\n",
       "      <td>2016</td>\n",
       "      <td>2026.0</td>\n",
       "      <td>Number</td>\n",
       "      <td>Percent</td>\n",
       "      <td>NaN</td>\n",
       "    </tr>\n",
       "    <tr>\n",
       "      <th>3</th>\n",
       "      <td>Total, all occupations</td>\n",
       "      <td>00-0000</td>\n",
       "      <td>Summary</td>\n",
       "      <td>156064</td>\n",
       "      <td>167582.3</td>\n",
       "      <td>100</td>\n",
       "      <td>100.0</td>\n",
       "      <td>11518.6</td>\n",
       "      <td>7.4</td>\n",
       "      <td>18742</td>\n",
       "    </tr>\n",
       "    <tr>\n",
       "      <th>4</th>\n",
       "      <td>Management occupations</td>\n",
       "      <td>11-0000</td>\n",
       "      <td>Summary</td>\n",
       "      <td>9533.1</td>\n",
       "      <td>10340.4</td>\n",
       "      <td>6.1</td>\n",
       "      <td>6.2</td>\n",
       "      <td>807.3</td>\n",
       "      <td>8.5</td>\n",
       "      <td>841.5</td>\n",
       "    </tr>\n",
       "    <tr>\n",
       "      <th>5</th>\n",
       "      <td>Top executives</td>\n",
       "      <td>11-1000</td>\n",
       "      <td>Summary</td>\n",
       "      <td>2627.5</td>\n",
       "      <td>2824.5</td>\n",
       "      <td>1.7</td>\n",
       "      <td>1.7</td>\n",
       "      <td>197</td>\n",
       "      <td>7.5</td>\n",
       "      <td>235</td>\n",
       "    </tr>\n",
       "    <tr>\n",
       "      <th>6</th>\n",
       "      <td>Chief executives</td>\n",
       "      <td>11-1011</td>\n",
       "      <td>Line item</td>\n",
       "      <td>308.9</td>\n",
       "      <td>296.8</td>\n",
       "      <td>0.2</td>\n",
       "      <td>0.2</td>\n",
       "      <td>-12.1</td>\n",
       "      <td>-3.9</td>\n",
       "      <td>20</td>\n",
       "    </tr>\n",
       "    <tr>\n",
       "      <th>7</th>\n",
       "      <td>General and operations managers</td>\n",
       "      <td>11-1021</td>\n",
       "      <td>Line item</td>\n",
       "      <td>2263.1</td>\n",
       "      <td>2468.3</td>\n",
       "      <td>1.5</td>\n",
       "      <td>1.5</td>\n",
       "      <td>205.2</td>\n",
       "      <td>9.1</td>\n",
       "      <td>210.7</td>\n",
       "    </tr>\n",
       "    <tr>\n",
       "      <th>8</th>\n",
       "      <td>Legislators</td>\n",
       "      <td>11-1031</td>\n",
       "      <td>Line item</td>\n",
       "      <td>55.5</td>\n",
       "      <td>59.4</td>\n",
       "      <td>0</td>\n",
       "      <td>0.0</td>\n",
       "      <td>3.9</td>\n",
       "      <td>7.1</td>\n",
       "      <td>4.4</td>\n",
       "    </tr>\n",
       "    <tr>\n",
       "      <th>9</th>\n",
       "      <td>Advertising, marketing, promotions, public rel...</td>\n",
       "      <td>11-2000</td>\n",
       "      <td>Summary</td>\n",
       "      <td>708.6</td>\n",
       "      <td>768.9</td>\n",
       "      <td>0.5</td>\n",
       "      <td>0.5</td>\n",
       "      <td>60.3</td>\n",
       "      <td>8.5</td>\n",
       "      <td>67.9</td>\n",
       "    </tr>\n",
       "    <tr>\n",
       "      <th>10</th>\n",
       "      <td>Advertising and promotions managers</td>\n",
       "      <td>11-2011</td>\n",
       "      <td>Line item</td>\n",
       "      <td>31.3</td>\n",
       "      <td>33.0</td>\n",
       "      <td>0</td>\n",
       "      <td>0.0</td>\n",
       "      <td>1.7</td>\n",
       "      <td>5.5</td>\n",
       "      <td>3.4</td>\n",
       "    </tr>\n",
       "    <tr>\n",
       "      <th>11</th>\n",
       "      <td>Marketing and sales managers</td>\n",
       "      <td>11-2020</td>\n",
       "      <td>Summary</td>\n",
       "      <td>603.8</td>\n",
       "      <td>654.8</td>\n",
       "      <td>0.4</td>\n",
       "      <td>0.4</td>\n",
       "      <td>51</td>\n",
       "      <td>8.4</td>\n",
       "      <td>57.6</td>\n",
       "    </tr>\n",
       "    <tr>\n",
       "      <th>12</th>\n",
       "      <td>Marketing managers</td>\n",
       "      <td>11-2021</td>\n",
       "      <td>Line item</td>\n",
       "      <td>218.3</td>\n",
       "      <td>240.4</td>\n",
       "      <td>0.1</td>\n",
       "      <td>0.1</td>\n",
       "      <td>22.1</td>\n",
       "      <td>10.1</td>\n",
       "      <td>21.3</td>\n",
       "    </tr>\n",
       "    <tr>\n",
       "      <th>13</th>\n",
       "      <td>Sales managers</td>\n",
       "      <td>11-2022</td>\n",
       "      <td>Line item</td>\n",
       "      <td>385.5</td>\n",
       "      <td>414.4</td>\n",
       "      <td>0.2</td>\n",
       "      <td>0.2</td>\n",
       "      <td>28.9</td>\n",
       "      <td>7.5</td>\n",
       "      <td>36.3</td>\n",
       "    </tr>\n",
       "    <tr>\n",
       "      <th>14</th>\n",
       "      <td>Public relations and fundraising managers</td>\n",
       "      <td>11-2031</td>\n",
       "      <td>Line item</td>\n",
       "      <td>73.5</td>\n",
       "      <td>81.1</td>\n",
       "      <td>0</td>\n",
       "      <td>0.0</td>\n",
       "      <td>7.7</td>\n",
       "      <td>10.4</td>\n",
       "      <td>6.9</td>\n",
       "    </tr>\n",
       "  </tbody>\n",
       "</table>\n",
       "</div>"
      ],
      "text/plain": [
       "   Table 1.2 Employment by detailed occupation, 2016 and projected 2026\\n(Numbers in thousands)  \\\n",
       "0      2016 National Employment Matrix title and code                                             \n",
       "1                                                 NaN                                             \n",
       "2                                                 NaN                                             \n",
       "3                              Total, all occupations                                             \n",
       "4                              Management occupations                                             \n",
       "5                                      Top executives                                             \n",
       "6                                    Chief executives                                             \n",
       "7                     General and operations managers                                             \n",
       "8                                         Legislators                                             \n",
       "9   Advertising, marketing, promotions, public rel...                                             \n",
       "10                Advertising and promotions managers                                             \n",
       "11                       Marketing and sales managers                                             \n",
       "12                                 Marketing managers                                             \n",
       "13                                     Sales managers                                             \n",
       "14          Public relations and fundraising managers                                             \n",
       "\n",
       "   Unnamed: 1       Unnamed: 2  Unnamed: 3  Unnamed: 4            Unnamed: 5  \\\n",
       "0         NaN  Occupation type  Employment         NaN                   NaN   \n",
       "1         NaN              NaN      Number         NaN  Percent distribution   \n",
       "2         NaN              NaN        2016      2026.0                  2016   \n",
       "3     00-0000          Summary      156064    167582.3                   100   \n",
       "4     11-0000          Summary      9533.1     10340.4                   6.1   \n",
       "5     11-1000          Summary      2627.5      2824.5                   1.7   \n",
       "6     11-1011        Line item       308.9       296.8                   0.2   \n",
       "7     11-1021        Line item      2263.1      2468.3                   1.5   \n",
       "8     11-1031        Line item        55.5        59.4                     0   \n",
       "9     11-2000          Summary       708.6       768.9                   0.5   \n",
       "10    11-2011        Line item        31.3        33.0                     0   \n",
       "11    11-2020          Summary       603.8       654.8                   0.4   \n",
       "12    11-2021        Line item       218.3       240.4                   0.1   \n",
       "13    11-2022        Line item       385.5       414.4                   0.2   \n",
       "14    11-2031        Line item        73.5        81.1                     0   \n",
       "\n",
       "    Unnamed: 6       Unnamed: 7 Unnamed: 8  \\\n",
       "0          NaN  Change, 2016-26        NaN   \n",
       "1          NaN              NaN        NaN   \n",
       "2       2026.0           Number    Percent   \n",
       "3        100.0          11518.6        7.4   \n",
       "4          6.2            807.3        8.5   \n",
       "5          1.7              197        7.5   \n",
       "6          0.2            -12.1       -3.9   \n",
       "7          1.5            205.2        9.1   \n",
       "8          0.0              3.9        7.1   \n",
       "9          0.5             60.3        8.5   \n",
       "10         0.0              1.7        5.5   \n",
       "11         0.4               51        8.4   \n",
       "12         0.1             22.1       10.1   \n",
       "13         0.2             28.9        7.5   \n",
       "14         0.0              7.7       10.4   \n",
       "\n",
       "                                       Unnamed: 9  \n",
       "0   Occupational openings, 2016-26 annual average  \n",
       "1                                             NaN  \n",
       "2                                             NaN  \n",
       "3                                           18742  \n",
       "4                                           841.5  \n",
       "5                                             235  \n",
       "6                                              20  \n",
       "7                                           210.7  \n",
       "8                                             4.4  \n",
       "9                                            67.9  \n",
       "10                                            3.4  \n",
       "11                                           57.6  \n",
       "12                                           21.3  \n",
       "13                                           36.3  \n",
       "14                                            6.9  "
      ]
     },
     "execution_count": 610,
     "metadata": {},
     "output_type": "execute_result"
    }
   ],
   "source": [
    "projectionsDf.head(15)"
   ]
  },
  {
   "cell_type": "code",
   "execution_count": 611,
   "metadata": {},
   "outputs": [],
   "source": [
    "projectionsDf.columns = ['job','job_code','occupation_type','2016','2026','2016_dist','2026_dist','number_change',\\\n",
    "                        'percent_change','average']"
   ]
  },
  {
   "cell_type": "code",
   "execution_count": 612,
   "metadata": {},
   "outputs": [],
   "source": [
    "projectionsDf = projectionsDf[projectionsDf['occupation_type']=='Line item']"
   ]
  },
  {
   "cell_type": "code",
   "execution_count": 613,
   "metadata": {},
   "outputs": [
    {
     "data": {
      "text/html": [
       "<div>\n",
       "<style scoped>\n",
       "    .dataframe tbody tr th:only-of-type {\n",
       "        vertical-align: middle;\n",
       "    }\n",
       "\n",
       "    .dataframe tbody tr th {\n",
       "        vertical-align: top;\n",
       "    }\n",
       "\n",
       "    .dataframe thead th {\n",
       "        text-align: right;\n",
       "    }\n",
       "</style>\n",
       "<table border=\"1\" class=\"dataframe\">\n",
       "  <thead>\n",
       "    <tr style=\"text-align: right;\">\n",
       "      <th></th>\n",
       "      <th>job</th>\n",
       "      <th>job_code</th>\n",
       "      <th>occupation_type</th>\n",
       "      <th>2016</th>\n",
       "      <th>2026</th>\n",
       "      <th>2016_dist</th>\n",
       "      <th>2026_dist</th>\n",
       "      <th>number_change</th>\n",
       "      <th>percent_change</th>\n",
       "      <th>average</th>\n",
       "    </tr>\n",
       "  </thead>\n",
       "  <tbody>\n",
       "    <tr>\n",
       "      <th>6</th>\n",
       "      <td>Chief executives</td>\n",
       "      <td>11-1011</td>\n",
       "      <td>Line item</td>\n",
       "      <td>308.9</td>\n",
       "      <td>296.8</td>\n",
       "      <td>0.2</td>\n",
       "      <td>0.2</td>\n",
       "      <td>-12.1</td>\n",
       "      <td>-3.9</td>\n",
       "      <td>20</td>\n",
       "    </tr>\n",
       "    <tr>\n",
       "      <th>7</th>\n",
       "      <td>General and operations managers</td>\n",
       "      <td>11-1021</td>\n",
       "      <td>Line item</td>\n",
       "      <td>2263.1</td>\n",
       "      <td>2468.3</td>\n",
       "      <td>1.5</td>\n",
       "      <td>1.5</td>\n",
       "      <td>205.2</td>\n",
       "      <td>9.1</td>\n",
       "      <td>210.7</td>\n",
       "    </tr>\n",
       "    <tr>\n",
       "      <th>8</th>\n",
       "      <td>Legislators</td>\n",
       "      <td>11-1031</td>\n",
       "      <td>Line item</td>\n",
       "      <td>55.5</td>\n",
       "      <td>59.4</td>\n",
       "      <td>0</td>\n",
       "      <td>0.0</td>\n",
       "      <td>3.9</td>\n",
       "      <td>7.1</td>\n",
       "      <td>4.4</td>\n",
       "    </tr>\n",
       "    <tr>\n",
       "      <th>10</th>\n",
       "      <td>Advertising and promotions managers</td>\n",
       "      <td>11-2011</td>\n",
       "      <td>Line item</td>\n",
       "      <td>31.3</td>\n",
       "      <td>33.0</td>\n",
       "      <td>0</td>\n",
       "      <td>0.0</td>\n",
       "      <td>1.7</td>\n",
       "      <td>5.5</td>\n",
       "      <td>3.4</td>\n",
       "    </tr>\n",
       "    <tr>\n",
       "      <th>12</th>\n",
       "      <td>Marketing managers</td>\n",
       "      <td>11-2021</td>\n",
       "      <td>Line item</td>\n",
       "      <td>218.3</td>\n",
       "      <td>240.4</td>\n",
       "      <td>0.1</td>\n",
       "      <td>0.1</td>\n",
       "      <td>22.1</td>\n",
       "      <td>10.1</td>\n",
       "      <td>21.3</td>\n",
       "    </tr>\n",
       "  </tbody>\n",
       "</table>\n",
       "</div>"
      ],
      "text/plain": [
       "                                    job job_code occupation_type    2016  \\\n",
       "6                      Chief executives  11-1011       Line item   308.9   \n",
       "7       General and operations managers  11-1021       Line item  2263.1   \n",
       "8                           Legislators  11-1031       Line item    55.5   \n",
       "10  Advertising and promotions managers  11-2011       Line item    31.3   \n",
       "12                   Marketing managers  11-2021       Line item   218.3   \n",
       "\n",
       "      2026 2016_dist  2026_dist number_change percent_change average  \n",
       "6    296.8       0.2        0.2         -12.1           -3.9      20  \n",
       "7   2468.3       1.5        1.5         205.2            9.1   210.7  \n",
       "8     59.4         0        0.0           3.9            7.1     4.4  \n",
       "10    33.0         0        0.0           1.7            5.5     3.4  \n",
       "12   240.4       0.1        0.1          22.1           10.1    21.3  "
      ]
     },
     "execution_count": 613,
     "metadata": {},
     "output_type": "execute_result"
    }
   ],
   "source": [
    "projectionsDf.head()"
   ]
  },
  {
   "cell_type": "code",
   "execution_count": 614,
   "metadata": {},
   "outputs": [],
   "source": [
    "projectionsDf['SOC'] = projectionsDf['job_code']"
   ]
  },
  {
   "cell_type": "code",
   "execution_count": 618,
   "metadata": {},
   "outputs": [],
   "source": [
    "projectionsDf.set_index('SOC',inplace=True)"
   ]
  },
  {
   "cell_type": "code",
   "execution_count": 619,
   "metadata": {},
   "outputs": [
    {
     "data": {
      "text/html": [
       "<div>\n",
       "<style scoped>\n",
       "    .dataframe tbody tr th:only-of-type {\n",
       "        vertical-align: middle;\n",
       "    }\n",
       "\n",
       "    .dataframe tbody tr th {\n",
       "        vertical-align: top;\n",
       "    }\n",
       "\n",
       "    .dataframe thead th {\n",
       "        text-align: right;\n",
       "    }\n",
       "</style>\n",
       "<table border=\"1\" class=\"dataframe\">\n",
       "  <thead>\n",
       "    <tr style=\"text-align: right;\">\n",
       "      <th></th>\n",
       "      <th>job</th>\n",
       "      <th>occupation_type</th>\n",
       "      <th>2016</th>\n",
       "      <th>2026</th>\n",
       "      <th>2016_dist</th>\n",
       "      <th>2026_dist</th>\n",
       "      <th>number_change</th>\n",
       "      <th>percent_change</th>\n",
       "      <th>average</th>\n",
       "    </tr>\n",
       "    <tr>\n",
       "      <th>SOC</th>\n",
       "      <th></th>\n",
       "      <th></th>\n",
       "      <th></th>\n",
       "      <th></th>\n",
       "      <th></th>\n",
       "      <th></th>\n",
       "      <th></th>\n",
       "      <th></th>\n",
       "      <th></th>\n",
       "    </tr>\n",
       "  </thead>\n",
       "  <tbody>\n",
       "    <tr>\n",
       "      <th>11-1011</th>\n",
       "      <td>Chief executives</td>\n",
       "      <td>Line item</td>\n",
       "      <td>308.9</td>\n",
       "      <td>296.8</td>\n",
       "      <td>0.2</td>\n",
       "      <td>0.2</td>\n",
       "      <td>-12.1</td>\n",
       "      <td>-3.9</td>\n",
       "      <td>20</td>\n",
       "    </tr>\n",
       "    <tr>\n",
       "      <th>11-1021</th>\n",
       "      <td>General and operations managers</td>\n",
       "      <td>Line item</td>\n",
       "      <td>2263.1</td>\n",
       "      <td>2468.3</td>\n",
       "      <td>1.5</td>\n",
       "      <td>1.5</td>\n",
       "      <td>205.2</td>\n",
       "      <td>9.1</td>\n",
       "      <td>210.7</td>\n",
       "    </tr>\n",
       "    <tr>\n",
       "      <th>11-1031</th>\n",
       "      <td>Legislators</td>\n",
       "      <td>Line item</td>\n",
       "      <td>55.5</td>\n",
       "      <td>59.4</td>\n",
       "      <td>0</td>\n",
       "      <td>0.0</td>\n",
       "      <td>3.9</td>\n",
       "      <td>7.1</td>\n",
       "      <td>4.4</td>\n",
       "    </tr>\n",
       "    <tr>\n",
       "      <th>11-2011</th>\n",
       "      <td>Advertising and promotions managers</td>\n",
       "      <td>Line item</td>\n",
       "      <td>31.3</td>\n",
       "      <td>33.0</td>\n",
       "      <td>0</td>\n",
       "      <td>0.0</td>\n",
       "      <td>1.7</td>\n",
       "      <td>5.5</td>\n",
       "      <td>3.4</td>\n",
       "    </tr>\n",
       "    <tr>\n",
       "      <th>11-2021</th>\n",
       "      <td>Marketing managers</td>\n",
       "      <td>Line item</td>\n",
       "      <td>218.3</td>\n",
       "      <td>240.4</td>\n",
       "      <td>0.1</td>\n",
       "      <td>0.1</td>\n",
       "      <td>22.1</td>\n",
       "      <td>10.1</td>\n",
       "      <td>21.3</td>\n",
       "    </tr>\n",
       "  </tbody>\n",
       "</table>\n",
       "</div>"
      ],
      "text/plain": [
       "                                         job occupation_type    2016    2026  \\\n",
       "SOC                                                                            \n",
       "11-1011                     Chief executives       Line item   308.9   296.8   \n",
       "11-1021      General and operations managers       Line item  2263.1  2468.3   \n",
       "11-1031                          Legislators       Line item    55.5    59.4   \n",
       "11-2011  Advertising and promotions managers       Line item    31.3    33.0   \n",
       "11-2021                   Marketing managers       Line item   218.3   240.4   \n",
       "\n",
       "        2016_dist  2026_dist number_change percent_change average  \n",
       "SOC                                                                \n",
       "11-1011       0.2        0.2         -12.1           -3.9      20  \n",
       "11-1021       1.5        1.5         205.2            9.1   210.7  \n",
       "11-1031         0        0.0           3.9            7.1     4.4  \n",
       "11-2011         0        0.0           1.7            5.5     3.4  \n",
       "11-2021       0.1        0.1          22.1           10.1    21.3  "
      ]
     },
     "execution_count": 619,
     "metadata": {},
     "output_type": "execute_result"
    }
   ],
   "source": [
    "projectionsDf.head()"
   ]
  },
  {
   "cell_type": "code",
   "execution_count": 617,
   "metadata": {},
   "outputs": [
    {
     "data": {
      "text/html": [
       "<div>\n",
       "<style scoped>\n",
       "    .dataframe tbody tr th:only-of-type {\n",
       "        vertical-align: middle;\n",
       "    }\n",
       "\n",
       "    .dataframe tbody tr th {\n",
       "        vertical-align: top;\n",
       "    }\n",
       "\n",
       "    .dataframe thead th {\n",
       "        text-align: right;\n",
       "    }\n",
       "</style>\n",
       "<table border=\"1\" class=\"dataframe\">\n",
       "  <thead>\n",
       "    <tr style=\"text-align: right;\">\n",
       "      <th></th>\n",
       "      <th>O*NET-SOC Code</th>\n",
       "      <th>O*NET-SOC Title</th>\n",
       "      <th>Job Zone</th>\n",
       "      <th>First Work Value</th>\n",
       "      <th>Second Work Value</th>\n",
       "      <th>Third Work Value</th>\n",
       "      <th>SOC</th>\n",
       "    </tr>\n",
       "    <tr>\n",
       "      <th>SOC</th>\n",
       "      <th></th>\n",
       "      <th></th>\n",
       "      <th></th>\n",
       "      <th></th>\n",
       "      <th></th>\n",
       "      <th></th>\n",
       "      <th></th>\n",
       "    </tr>\n",
       "  </thead>\n",
       "  <tbody>\n",
       "    <tr>\n",
       "      <th>39-3091</th>\n",
       "      <td>39-3091.00</td>\n",
       "      <td>Amusement and Recreation Attendants</td>\n",
       "      <td>1</td>\n",
       "      <td>Support</td>\n",
       "      <td>Independence</td>\n",
       "      <td>Relationships</td>\n",
       "      <td>39-3091</td>\n",
       "    </tr>\n",
       "    <tr>\n",
       "      <th>53-6011</th>\n",
       "      <td>53-6011.00</td>\n",
       "      <td>Bridge and Lock Tenders</td>\n",
       "      <td>1</td>\n",
       "      <td>Support</td>\n",
       "      <td>Relationships</td>\n",
       "      <td>Working Conditions</td>\n",
       "      <td>53-6011</td>\n",
       "    </tr>\n",
       "    <tr>\n",
       "      <th>53-7011</th>\n",
       "      <td>53-7011.00</td>\n",
       "      <td>Conveyor Operators and Tenders</td>\n",
       "      <td>1</td>\n",
       "      <td>Support</td>\n",
       "      <td>Relationships</td>\n",
       "      <td>Independence</td>\n",
       "      <td>53-7011</td>\n",
       "    </tr>\n",
       "    <tr>\n",
       "      <th>47-5011</th>\n",
       "      <td>47-5011.00</td>\n",
       "      <td>Derrick Operators, Oil and Gas</td>\n",
       "      <td>1</td>\n",
       "      <td>Support</td>\n",
       "      <td>Relationships</td>\n",
       "      <td>Working Conditions</td>\n",
       "      <td>47-5011</td>\n",
       "    </tr>\n",
       "    <tr>\n",
       "      <th>49-9093</th>\n",
       "      <td>49-9093.00</td>\n",
       "      <td>Fabric Menders, Except Garment</td>\n",
       "      <td>1</td>\n",
       "      <td>Support</td>\n",
       "      <td>Achievement</td>\n",
       "      <td>Working Conditions</td>\n",
       "      <td>49-9093</td>\n",
       "    </tr>\n",
       "  </tbody>\n",
       "</table>\n",
       "</div>"
      ],
      "text/plain": [
       "        O*NET-SOC Code                      O*NET-SOC Title  Job Zone  \\\n",
       "SOC                                                                     \n",
       "39-3091     39-3091.00  Amusement and Recreation Attendants         1   \n",
       "53-6011     53-6011.00              Bridge and Lock Tenders         1   \n",
       "53-7011     53-7011.00       Conveyor Operators and Tenders         1   \n",
       "47-5011     47-5011.00       Derrick Operators, Oil and Gas         1   \n",
       "49-9093     49-9093.00       Fabric Menders, Except Garment         1   \n",
       "\n",
       "        First Work Value Second Work Value    Third Work Value      SOC  \n",
       "SOC                                                                      \n",
       "39-3091          Support      Independence       Relationships  39-3091  \n",
       "53-6011          Support     Relationships  Working Conditions  53-6011  \n",
       "53-7011          Support     Relationships        Independence  53-7011  \n",
       "47-5011          Support     Relationships  Working Conditions  47-5011  \n",
       "49-9093          Support       Achievement  Working Conditions  49-9093  "
      ]
     },
     "execution_count": 617,
     "metadata": {},
     "output_type": "execute_result"
    }
   ],
   "source": [
    "supportDf.head()"
   ]
  },
  {
   "cell_type": "code",
   "execution_count": 621,
   "metadata": {},
   "outputs": [],
   "source": [
    "joined = supportDf.join(projectionsDf)"
   ]
  },
  {
   "cell_type": "code",
   "execution_count": 623,
   "metadata": {},
   "outputs": [
    {
     "data": {
      "text/plain": [
       "<matplotlib.axes._subplots.AxesSubplot at 0x1a26e6b2e8>"
      ]
     },
     "execution_count": 623,
     "metadata": {},
     "output_type": "execute_result"
    },
    {
     "data": {
      "image/png": "[encoded data removed]",
      "text/plain": [
       "<Figure size 432x288 with 1 Axes>"
      ]
     },
     "metadata": {
      "needs_background": "light"
     },
     "output_type": "display_data"
    }
   ],
   "source": [
    "sns.kdeplot(joined['percent_change'],legend = False)"
   ]
  },
  {
   "cell_type": "code",
   "execution_count": 653,
   "metadata": {},
   "outputs": [
    {
     "name": "stderr",
     "output_type": "stream",
     "text": [
      "/Users/alexisrutherford/anaconda3/lib/python3.6/site-packages/statsmodels/nonparametric/kde.py:448: RuntimeWarning: invalid value encountered in greater\n",
      "  X = X[np.logical_and(X > clip[0], X < clip[1])] # won't work for two columns.\n",
      "/Users/alexisrutherford/anaconda3/lib/python3.6/site-packages/statsmodels/nonparametric/kde.py:448: RuntimeWarning: invalid value encountered in less\n",
      "  X = X[np.logical_and(X > clip[0], X < clip[1])] # won't work for two columns.\n",
      "/Users/alexisrutherford/anaconda3/lib/python3.6/site-packages/scipy/stats/stats.py:1713: FutureWarning: Using a non-tuple sequence for multidimensional indexing is deprecated; use `arr[tuple(seq)]` instead of `arr[seq]`. In the future this will be interpreted as an array index, `arr[np.array(seq)]`, which will result either in an error or a different result.\n",
      "  return np.add.reduce(sorted[indexer] * weights, axis=axis) / sumval\n"
     ]
    },
    {
     "data": {
      "image/png": "[encoded data removed]",
      "text/plain": [
       "<Figure size 432x288 with 1 Axes>"
      ]
     },
     "metadata": {
      "needs_background": "light"
     },
     "output_type": "display_data"
    },
    {
     "data": {
      "image/png": "[encoded data removed]",
      "text/plain": [
       "<Figure size 432x288 with 1 Axes>"
      ]
     },
     "metadata": {
      "needs_background": "light"
     },
     "output_type": "display_data"
    },
    {
     "data": {
      "image/png": "[encoded data removed]",
      "text/plain": [
       "<Figure size 432x288 with 1 Axes>"
      ]
     },
     "metadata": {
      "needs_background": "light"
     },
     "output_type": "display_data"
    },
    {
     "data": {
      "image/png": "[encoded data removed]",
      "text/plain": [
       "<Figure size 432x288 with 1 Axes>"
      ]
     },
     "metadata": {
      "needs_background": "light"
     },
     "output_type": "display_data"
    },
    {
     "data": {
      "image/png": "[encoded data removed]",
      "text/plain": [
       "<Figure size 432x288 with 1 Axes>"
      ]
     },
     "metadata": {
      "needs_background": "light"
     },
     "output_type": "display_data"
    },
    {
     "data": {
      "image/png": "[encoded data removed]",
      "text/plain": [
       "<Figure size 432x288 with 1 Axes>"
      ]
     },
     "metadata": {
      "needs_background": "light"
     },
     "output_type": "display_data"
    }
   ],
   "source": [
    "for dummyDf,name in zip([achievementDf,independenceDf,recogntitionDf,relationshipsDf,supportDf,workingConditionsDf],\\\n",
    "        ['achievement','independence','recognition','relationships','support','working conditions']):\n",
    "\n",
    "    joined = dummyDf.join(projectionsDf)\n",
    "    \n",
    "    ax = sns.kdeplot(joined['percent_change'],legend = False,linewidth = 2)\n",
    "\n",
    "    plt.axvline(joined['percent_change'].mean(),linewidth=2,linestyle='--')\n",
    "\n",
    "    plt.xlim(-50,50)\n",
    "\n",
    "    plt.axvline(7.4,linewidth=2,linestyle='--',color='grey')\n",
    "    \n",
    "    ax.spines['right'].set_visible(False)\n",
    "    #ax.spines['left'].set_visible(False)\n",
    "\n",
    "    ax.spines['top'].set_visible(False)\n",
    "    \n",
    "    plt.title(str.capitalize(name))\n",
    "    \n",
    "    plt.show()\n",
    "    "
   ]
  },
  {
   "cell_type": "code",
   "execution_count": 672,
   "metadata": {},
   "outputs": [
    {
     "data": {
      "image/png": "[encoded data removed]",
      "text/plain": [
       "<Figure size 432x288 with 1 Axes>"
      ]
     },
     "metadata": {
      "needs_background": "light"
     },
     "output_type": "display_data"
    },
    {
     "data": {
      "image/png": "[encoded data removed]",
      "text/plain": [
       "<Figure size 432x288 with 1 Axes>"
      ]
     },
     "metadata": {
      "needs_background": "light"
     },
     "output_type": "display_data"
    },
    {
     "data": {
      "image/png": "[encoded data removed]",
      "text/plain": [
       "<Figure size 432x288 with 1 Axes>"
      ]
     },
     "metadata": {
      "needs_background": "light"
     },
     "output_type": "display_data"
    },
    {
     "data": {
      "image/png": "[encoded data removed]",
      "text/plain": [
       "<Figure size 432x288 with 1 Axes>"
      ]
     },
     "metadata": {
      "needs_background": "light"
     },
     "output_type": "display_data"
    },
    {
     "data": {
      "image/png": "[encoded data removed]",
      "text/plain": [
       "<Figure size 432x288 with 1 Axes>"
      ]
     },
     "metadata": {
      "needs_background": "light"
     },
     "output_type": "display_data"
    },
    {
     "data": {
      "image/png": "[encoded data removed]",
      "text/plain": [
       "<Figure size 432x288 with 1 Axes>"
      ]
     },
     "metadata": {
      "needs_background": "light"
     },
     "output_type": "display_data"
    }
   ],
   "source": [
    "for dummyDf,name in zip([achievementDf,independenceDf,recogntitionDf,relationshipsDf,supportDf,workingConditionsDf],\\\n",
    "        ['achievement','independence','recognition','relationships','support','working conditions']):\n",
    "\n",
    "    joined = dummyDf.join(projectionsDf)\n",
    "    \n",
    "    norm = 1000\n",
    "\n",
    "    fig,ax = plt.subplots()\n",
    "\n",
    "    ax.barh([0,1],[joined['2016'].sum()/norm,joined['2026'].sum()/norm])\n",
    "    \n",
    "    percent = (joined['2026'].sum() - joined['2016'].sum()) / float(joined['2016'].sum())\n",
    "    \n",
    "    percent = percent*100\n",
    "\n",
    "    _ = plt.yticks([0,1],['2016','2026'])\n",
    "    _ = plt.xlabel('Number of Jobs with {:s}\\n(Millions) ({:.1f}%)'.format(name,percent))\n",
    "\n",
    "    ax.spines['right'].set_visible(False)\n",
    "    ax.spines['bottom'].set_visible(False)\n",
    "\n",
    "    ax.spines['top'].set_visible(False)\n",
    "    \n",
    "    plt.tight_layout()\n",
    "    \n",
    "    plt.savefig('figures/growth_{:s}.png'.format(re.sub(' ','_',name)),dpi = 300)\n",
    "    \n",
    "    plt.show()"
   ]
  },
  {
   "cell_type": "code",
   "execution_count": 635,
   "metadata": {},
   "outputs": [
    {
     "data": {
      "text/plain": [
       "(204, 16)"
      ]
     },
     "execution_count": 635,
     "metadata": {},
     "output_type": "execute_result"
    }
   ],
   "source": [
    "joined.shape"
   ]
  },
  {
   "cell_type": "code",
   "execution_count": 636,
   "metadata": {},
   "outputs": [
    {
     "data": {
      "text/html": [
       "<div>\n",
       "<style scoped>\n",
       "    .dataframe tbody tr th:only-of-type {\n",
       "        vertical-align: middle;\n",
       "    }\n",
       "\n",
       "    .dataframe tbody tr th {\n",
       "        vertical-align: top;\n",
       "    }\n",
       "\n",
       "    .dataframe thead th {\n",
       "        text-align: right;\n",
       "    }\n",
       "</style>\n",
       "<table border=\"1\" class=\"dataframe\">\n",
       "  <thead>\n",
       "    <tr style=\"text-align: right;\">\n",
       "      <th></th>\n",
       "      <th>O*NET-SOC Code</th>\n",
       "      <th>O*NET-SOC Title</th>\n",
       "      <th>Job Zone</th>\n",
       "      <th>First Work Value</th>\n",
       "      <th>Second Work Value</th>\n",
       "      <th>Third Work Value</th>\n",
       "      <th>SOC</th>\n",
       "      <th>job</th>\n",
       "      <th>occupation_type</th>\n",
       "      <th>2016</th>\n",
       "      <th>2026</th>\n",
       "      <th>2016_dist</th>\n",
       "      <th>2026_dist</th>\n",
       "      <th>number_change</th>\n",
       "      <th>percent_change</th>\n",
       "      <th>average</th>\n",
       "    </tr>\n",
       "    <tr>\n",
       "      <th>SOC</th>\n",
       "      <th></th>\n",
       "      <th></th>\n",
       "      <th></th>\n",
       "      <th></th>\n",
       "      <th></th>\n",
       "      <th></th>\n",
       "      <th></th>\n",
       "      <th></th>\n",
       "      <th></th>\n",
       "      <th></th>\n",
       "      <th></th>\n",
       "      <th></th>\n",
       "      <th></th>\n",
       "      <th></th>\n",
       "      <th></th>\n",
       "      <th></th>\n",
       "    </tr>\n",
       "  </thead>\n",
       "  <tbody>\n",
       "    <tr>\n",
       "      <th>11-1011</th>\n",
       "      <td>11-1011.03</td>\n",
       "      <td>Chief Sustainability Officers</td>\n",
       "      <td>5</td>\n",
       "      <td>Achievement</td>\n",
       "      <td>Independence</td>\n",
       "      <td>Working Conditions</td>\n",
       "      <td>11-1011</td>\n",
       "      <td>Chief executives</td>\n",
       "      <td>Line item</td>\n",
       "      <td>308.9</td>\n",
       "      <td>296.8</td>\n",
       "      <td>0.2</td>\n",
       "      <td>0.2</td>\n",
       "      <td>-12.1</td>\n",
       "      <td>-3.9</td>\n",
       "      <td>20</td>\n",
       "    </tr>\n",
       "    <tr>\n",
       "      <th>11-3051</th>\n",
       "      <td>11-3051.06</td>\n",
       "      <td>Hydroelectric Production Managers</td>\n",
       "      <td>3</td>\n",
       "      <td>Achievement</td>\n",
       "      <td>Working Conditions</td>\n",
       "      <td>Recognition</td>\n",
       "      <td>11-3051</td>\n",
       "      <td>Industrial production managers</td>\n",
       "      <td>Line item</td>\n",
       "      <td>170.6</td>\n",
       "      <td>169.7</td>\n",
       "      <td>0.1</td>\n",
       "      <td>0.1</td>\n",
       "      <td>-0.9</td>\n",
       "      <td>-0.5</td>\n",
       "      <td>11.6</td>\n",
       "    </tr>\n",
       "    <tr>\n",
       "      <th>11-9013</th>\n",
       "      <td>11-9013.02</td>\n",
       "      <td>Farm and Ranch Managers</td>\n",
       "      <td>4</td>\n",
       "      <td>Achievement</td>\n",
       "      <td>Independence</td>\n",
       "      <td>Recognition</td>\n",
       "      <td>11-9013</td>\n",
       "      <td>Farmers, ranchers, and other agricultural mana...</td>\n",
       "      <td>Line item</td>\n",
       "      <td>1028.7</td>\n",
       "      <td>1020.7</td>\n",
       "      <td>0.7</td>\n",
       "      <td>0.6</td>\n",
       "      <td>-8</td>\n",
       "      <td>-0.8</td>\n",
       "      <td>74.3</td>\n",
       "    </tr>\n",
       "    <tr>\n",
       "      <th>11-9041</th>\n",
       "      <td>11-9041.01</td>\n",
       "      <td>Biofuels/Biodiesel Technology and Product Deve...</td>\n",
       "      <td>4</td>\n",
       "      <td>Achievement</td>\n",
       "      <td>Working Conditions</td>\n",
       "      <td>Independence</td>\n",
       "      <td>11-9041</td>\n",
       "      <td>Architectural and engineering managers</td>\n",
       "      <td>Line item</td>\n",
       "      <td>180.1</td>\n",
       "      <td>190.0</td>\n",
       "      <td>0.1</td>\n",
       "      <td>0.1</td>\n",
       "      <td>9.9</td>\n",
       "      <td>5.5</td>\n",
       "      <td>13.6</td>\n",
       "    </tr>\n",
       "    <tr>\n",
       "      <th>11-9041</th>\n",
       "      <td>11-9041.00</td>\n",
       "      <td>Architectural and Engineering Managers</td>\n",
       "      <td>5</td>\n",
       "      <td>Achievement</td>\n",
       "      <td>Independence</td>\n",
       "      <td>Working Conditions</td>\n",
       "      <td>11-9041</td>\n",
       "      <td>Architectural and engineering managers</td>\n",
       "      <td>Line item</td>\n",
       "      <td>180.1</td>\n",
       "      <td>190.0</td>\n",
       "      <td>0.1</td>\n",
       "      <td>0.1</td>\n",
       "      <td>9.9</td>\n",
       "      <td>5.5</td>\n",
       "      <td>13.6</td>\n",
       "    </tr>\n",
       "  </tbody>\n",
       "</table>\n",
       "</div>"
      ],
      "text/plain": [
       "        O*NET-SOC Code                                    O*NET-SOC Title  \\\n",
       "SOC                                                                         \n",
       "11-1011     11-1011.03                      Chief Sustainability Officers   \n",
       "11-3051     11-3051.06                  Hydroelectric Production Managers   \n",
       "11-9013     11-9013.02                            Farm and Ranch Managers   \n",
       "11-9041     11-9041.01  Biofuels/Biodiesel Technology and Product Deve...   \n",
       "11-9041     11-9041.00             Architectural and Engineering Managers   \n",
       "\n",
       "         Job Zone First Work Value   Second Work Value    Third Work Value  \\\n",
       "SOC                                                                          \n",
       "11-1011         5      Achievement        Independence  Working Conditions   \n",
       "11-3051         3      Achievement  Working Conditions         Recognition   \n",
       "11-9013         4      Achievement        Independence         Recognition   \n",
       "11-9041         4      Achievement  Working Conditions        Independence   \n",
       "11-9041         5      Achievement        Independence  Working Conditions   \n",
       "\n",
       "             SOC                                                job  \\\n",
       "SOC                                                                   \n",
       "11-1011  11-1011                                   Chief executives   \n",
       "11-3051  11-3051                     Industrial production managers   \n",
       "11-9013  11-9013  Farmers, ranchers, and other agricultural mana...   \n",
       "11-9041  11-9041             Architectural and engineering managers   \n",
       "11-9041  11-9041             Architectural and engineering managers   \n",
       "\n",
       "        occupation_type    2016    2026 2016_dist  2026_dist number_change  \\\n",
       "SOC                                                                          \n",
       "11-1011       Line item   308.9   296.8       0.2        0.2         -12.1   \n",
       "11-3051       Line item   170.6   169.7       0.1        0.1          -0.9   \n",
       "11-9013       Line item  1028.7  1020.7       0.7        0.6            -8   \n",
       "11-9041       Line item   180.1   190.0       0.1        0.1           9.9   \n",
       "11-9041       Line item   180.1   190.0       0.1        0.1           9.9   \n",
       "\n",
       "        percent_change average  \n",
       "SOC                             \n",
       "11-1011           -3.9      20  \n",
       "11-3051           -0.5    11.6  \n",
       "11-9013           -0.8    74.3  \n",
       "11-9041            5.5    13.6  \n",
       "11-9041            5.5    13.6  "
      ]
     },
     "execution_count": 636,
     "metadata": {},
     "output_type": "execute_result"
    }
   ],
   "source": [
    "joined.head()"
   ]
  },
  {
   "cell_type": "code",
   "execution_count": 637,
   "metadata": {},
   "outputs": [
    {
     "data": {
      "text/plain": [
       "45246.4"
      ]
     },
     "execution_count": 637,
     "metadata": {},
     "output_type": "execute_result"
    }
   ],
   "source": [
    "joined['2016'].sum()"
   ]
  },
  {
   "cell_type": "code",
   "execution_count": 638,
   "metadata": {},
   "outputs": [
    {
     "data": {
      "text/plain": [
       "48658.00000000001"
      ]
     },
     "execution_count": 638,
     "metadata": {},
     "output_type": "execute_result"
    }
   ],
   "source": [
    "joined['2026'].sum()"
   ]
  },
  {
   "cell_type": "code",
   "execution_count": 651,
   "metadata": {},
   "outputs": [
    {
     "data": {
      "image/png": "[encoded data removed]",
      "text/plain": [
       "<Figure size 432x288 with 1 Axes>"
      ]
     },
     "metadata": {
      "needs_background": "light"
     },
     "output_type": "display_data"
    }
   ],
   "source": [
    "norm = 1000\n",
    "\n",
    "fig,ax = plt.subplots()\n",
    "\n",
    "ax.barh([0,1],[joined['2016'].sum()/norm,joined['2026'].sum()/norm])\n",
    "\n",
    "_ = plt.yticks([0,1],['2016','2026'])\n",
    "_ = plt.xlabel('Number of Jobs with Support (x1000)')\n",
    "\n",
    "ax.spines['right'].set_visible(False)\n",
    "ax.spines['bottom'].set_visible(False)\n",
    "\n",
    "ax.spines['top'].set_visible(False)"
   ]
  },
  {
   "cell_type": "code",
   "execution_count": 664,
   "metadata": {},
   "outputs": [
    {
     "data": {
      "text/html": [
       "<div>\n",
       "<style scoped>\n",
       "    .dataframe tbody tr th:only-of-type {\n",
       "        vertical-align: middle;\n",
       "    }\n",
       "\n",
       "    .dataframe tbody tr th {\n",
       "        vertical-align: top;\n",
       "    }\n",
       "\n",
       "    .dataframe thead th {\n",
       "        text-align: right;\n",
       "    }\n",
       "</style>\n",
       "<table border=\"1\" class=\"dataframe\">\n",
       "  <thead>\n",
       "    <tr style=\"text-align: right;\">\n",
       "      <th></th>\n",
       "      <th>job</th>\n",
       "      <th>occupation_type</th>\n",
       "      <th>2016</th>\n",
       "      <th>2026</th>\n",
       "      <th>2016_dist</th>\n",
       "      <th>2026_dist</th>\n",
       "      <th>number_change</th>\n",
       "      <th>percent_change</th>\n",
       "      <th>average</th>\n",
       "    </tr>\n",
       "    <tr>\n",
       "      <th>SOC</th>\n",
       "      <th></th>\n",
       "      <th></th>\n",
       "      <th></th>\n",
       "      <th></th>\n",
       "      <th></th>\n",
       "      <th></th>\n",
       "      <th></th>\n",
       "      <th></th>\n",
       "      <th></th>\n",
       "    </tr>\n",
       "  </thead>\n",
       "  <tbody>\n",
       "    <tr>\n",
       "      <th>11-1011</th>\n",
       "      <td>Chief executives</td>\n",
       "      <td>Line item</td>\n",
       "      <td>308.9</td>\n",
       "      <td>296.8</td>\n",
       "      <td>0.2</td>\n",
       "      <td>0.2</td>\n",
       "      <td>-12.1</td>\n",
       "      <td>-3.9</td>\n",
       "      <td>20</td>\n",
       "    </tr>\n",
       "    <tr>\n",
       "      <th>11-1021</th>\n",
       "      <td>General and operations managers</td>\n",
       "      <td>Line item</td>\n",
       "      <td>2263.1</td>\n",
       "      <td>2468.3</td>\n",
       "      <td>1.5</td>\n",
       "      <td>1.5</td>\n",
       "      <td>205.2</td>\n",
       "      <td>9.1</td>\n",
       "      <td>210.7</td>\n",
       "    </tr>\n",
       "    <tr>\n",
       "      <th>11-1031</th>\n",
       "      <td>Legislators</td>\n",
       "      <td>Line item</td>\n",
       "      <td>55.5</td>\n",
       "      <td>59.4</td>\n",
       "      <td>0</td>\n",
       "      <td>0.0</td>\n",
       "      <td>3.9</td>\n",
       "      <td>7.1</td>\n",
       "      <td>4.4</td>\n",
       "    </tr>\n",
       "    <tr>\n",
       "      <th>11-2011</th>\n",
       "      <td>Advertising and promotions managers</td>\n",
       "      <td>Line item</td>\n",
       "      <td>31.3</td>\n",
       "      <td>33.0</td>\n",
       "      <td>0</td>\n",
       "      <td>0.0</td>\n",
       "      <td>1.7</td>\n",
       "      <td>5.5</td>\n",
       "      <td>3.4</td>\n",
       "    </tr>\n",
       "    <tr>\n",
       "      <th>11-2021</th>\n",
       "      <td>Marketing managers</td>\n",
       "      <td>Line item</td>\n",
       "      <td>218.3</td>\n",
       "      <td>240.4</td>\n",
       "      <td>0.1</td>\n",
       "      <td>0.1</td>\n",
       "      <td>22.1</td>\n",
       "      <td>10.1</td>\n",
       "      <td>21.3</td>\n",
       "    </tr>\n",
       "  </tbody>\n",
       "</table>\n",
       "</div>"
      ],
      "text/plain": [
       "                                         job occupation_type    2016    2026  \\\n",
       "SOC                                                                            \n",
       "11-1011                     Chief executives       Line item   308.9   296.8   \n",
       "11-1021      General and operations managers       Line item  2263.1  2468.3   \n",
       "11-1031                          Legislators       Line item    55.5    59.4   \n",
       "11-2011  Advertising and promotions managers       Line item    31.3    33.0   \n",
       "11-2021                   Marketing managers       Line item   218.3   240.4   \n",
       "\n",
       "        2016_dist  2026_dist number_change percent_change average  \n",
       "SOC                                                                \n",
       "11-1011       0.2        0.2         -12.1           -3.9      20  \n",
       "11-1021       1.5        1.5         205.2            9.1   210.7  \n",
       "11-1031         0        0.0           3.9            7.1     4.4  \n",
       "11-2011         0        0.0           1.7            5.5     3.4  \n",
       "11-2021       0.1        0.1          22.1           10.1    21.3  "
      ]
     },
     "execution_count": 664,
     "metadata": {},
     "output_type": "execute_result"
    }
   ],
   "source": [
    "projectionsDf.head()"
   ]
  },
  {
   "cell_type": "code",
   "execution_count": 666,
   "metadata": {},
   "outputs": [
    {
     "data": {
      "text/html": [
       "<div>\n",
       "<style scoped>\n",
       "    .dataframe tbody tr th:only-of-type {\n",
       "        vertical-align: middle;\n",
       "    }\n",
       "\n",
       "    .dataframe tbody tr th {\n",
       "        vertical-align: top;\n",
       "    }\n",
       "\n",
       "    .dataframe thead th {\n",
       "        text-align: right;\n",
       "    }\n",
       "</style>\n",
       "<table border=\"1\" class=\"dataframe\">\n",
       "  <thead>\n",
       "    <tr style=\"text-align: right;\">\n",
       "      <th></th>\n",
       "      <th>job</th>\n",
       "      <th>occupation_type</th>\n",
       "      <th>2016</th>\n",
       "      <th>2026</th>\n",
       "      <th>2016_dist</th>\n",
       "      <th>2026_dist</th>\n",
       "      <th>number_change</th>\n",
       "      <th>percent_change</th>\n",
       "      <th>average</th>\n",
       "    </tr>\n",
       "    <tr>\n",
       "      <th>SOC</th>\n",
       "      <th></th>\n",
       "      <th></th>\n",
       "      <th></th>\n",
       "      <th></th>\n",
       "      <th></th>\n",
       "      <th></th>\n",
       "      <th></th>\n",
       "      <th></th>\n",
       "      <th></th>\n",
       "    </tr>\n",
       "  </thead>\n",
       "  <tbody>\n",
       "    <tr>\n",
       "      <th>11-1011</th>\n",
       "      <td>Chief executives</td>\n",
       "      <td>Line item</td>\n",
       "      <td>308.9</td>\n",
       "      <td>296.8</td>\n",
       "      <td>0.2</td>\n",
       "      <td>0.2</td>\n",
       "      <td>-12.1</td>\n",
       "      <td>-3.9</td>\n",
       "      <td>20</td>\n",
       "    </tr>\n",
       "    <tr>\n",
       "      <th>11-3051</th>\n",
       "      <td>Industrial production managers</td>\n",
       "      <td>Line item</td>\n",
       "      <td>170.6</td>\n",
       "      <td>169.7</td>\n",
       "      <td>0.1</td>\n",
       "      <td>0.1</td>\n",
       "      <td>-0.9</td>\n",
       "      <td>-0.5</td>\n",
       "      <td>11.6</td>\n",
       "    </tr>\n",
       "    <tr>\n",
       "      <th>11-9013</th>\n",
       "      <td>Farmers, ranchers, and other agricultural mana...</td>\n",
       "      <td>Line item</td>\n",
       "      <td>1028.7</td>\n",
       "      <td>1020.7</td>\n",
       "      <td>0.7</td>\n",
       "      <td>0.6</td>\n",
       "      <td>-8</td>\n",
       "      <td>-0.8</td>\n",
       "      <td>74.3</td>\n",
       "    </tr>\n",
       "    <tr>\n",
       "      <th>11-9131</th>\n",
       "      <td>Postmasters and mail superintendents</td>\n",
       "      <td>Line item</td>\n",
       "      <td>14.2</td>\n",
       "      <td>11.2</td>\n",
       "      <td>0</td>\n",
       "      <td>0.0</td>\n",
       "      <td>-3</td>\n",
       "      <td>-20.9</td>\n",
       "      <td>0.6</td>\n",
       "    </tr>\n",
       "    <tr>\n",
       "      <th>13-1021</th>\n",
       "      <td>Buyers and purchasing agents, farm products</td>\n",
       "      <td>Line item</td>\n",
       "      <td>13.7</td>\n",
       "      <td>12.9</td>\n",
       "      <td>0</td>\n",
       "      <td>0.0</td>\n",
       "      <td>-0.9</td>\n",
       "      <td>-6.2</td>\n",
       "      <td>1.4</td>\n",
       "    </tr>\n",
       "    <tr>\n",
       "      <th>13-1022</th>\n",
       "      <td>Wholesale and retail buyers, except farm products</td>\n",
       "      <td>Line item</td>\n",
       "      <td>123.3</td>\n",
       "      <td>120.3</td>\n",
       "      <td>0.1</td>\n",
       "      <td>0.1</td>\n",
       "      <td>-3</td>\n",
       "      <td>-2.5</td>\n",
       "      <td>13.3</td>\n",
       "    </tr>\n",
       "    <tr>\n",
       "      <th>13-1023</th>\n",
       "      <td>Purchasing agents, except wholesale, retail, a...</td>\n",
       "      <td>Line item</td>\n",
       "      <td>309.4</td>\n",
       "      <td>292.1</td>\n",
       "      <td>0.2</td>\n",
       "      <td>0.2</td>\n",
       "      <td>-17.4</td>\n",
       "      <td>-5.6</td>\n",
       "      <td>23.8</td>\n",
       "    </tr>\n",
       "    <tr>\n",
       "      <th>13-1031</th>\n",
       "      <td>Claims adjusters, examiners, and investigators</td>\n",
       "      <td>Line item</td>\n",
       "      <td>311.1</td>\n",
       "      <td>306.7</td>\n",
       "      <td>0.2</td>\n",
       "      <td>0.2</td>\n",
       "      <td>-4.5</td>\n",
       "      <td>-1.4</td>\n",
       "      <td>24.5</td>\n",
       "    </tr>\n",
       "    <tr>\n",
       "      <th>13-1075</th>\n",
       "      <td>Labor relations specialists</td>\n",
       "      <td>Line item</td>\n",
       "      <td>81.1</td>\n",
       "      <td>74.8</td>\n",
       "      <td>0.1</td>\n",
       "      <td>0.0</td>\n",
       "      <td>-6.3</td>\n",
       "      <td>-7.7</td>\n",
       "      <td>6.8</td>\n",
       "    </tr>\n",
       "    <tr>\n",
       "      <th>13-2053</th>\n",
       "      <td>Insurance underwriters</td>\n",
       "      <td>Line item</td>\n",
       "      <td>104.1</td>\n",
       "      <td>98.6</td>\n",
       "      <td>0.1</td>\n",
       "      <td>0.1</td>\n",
       "      <td>-5.4</td>\n",
       "      <td>-5.2</td>\n",
       "      <td>7.5</td>\n",
       "    </tr>\n",
       "    <tr>\n",
       "      <th>13-2081</th>\n",
       "      <td>Tax examiners and collectors, and revenue agents</td>\n",
       "      <td>Line item</td>\n",
       "      <td>62.1</td>\n",
       "      <td>61.7</td>\n",
       "      <td>0</td>\n",
       "      <td>0.0</td>\n",
       "      <td>-0.4</td>\n",
       "      <td>-0.6</td>\n",
       "      <td>4.2</td>\n",
       "    </tr>\n",
       "    <tr>\n",
       "      <th>15-1131</th>\n",
       "      <td>Computer programmers</td>\n",
       "      <td>Line item</td>\n",
       "      <td>294.9</td>\n",
       "      <td>273.6</td>\n",
       "      <td>0.2</td>\n",
       "      <td>0.2</td>\n",
       "      <td>-21.3</td>\n",
       "      <td>-7.2</td>\n",
       "      <td>15.5</td>\n",
       "    </tr>\n",
       "    <tr>\n",
       "      <th>25-3011</th>\n",
       "      <td>Adult basic and secondary education and litera...</td>\n",
       "      <td>Line item</td>\n",
       "      <td>68.2</td>\n",
       "      <td>64.7</td>\n",
       "      <td>0</td>\n",
       "      <td>0.0</td>\n",
       "      <td>-3.4</td>\n",
       "      <td>-5.1</td>\n",
       "      <td>6.8</td>\n",
       "    </tr>\n",
       "    <tr>\n",
       "      <th>27-1023</th>\n",
       "      <td>Floral designers</td>\n",
       "      <td>Line item</td>\n",
       "      <td>55</td>\n",
       "      <td>51.4</td>\n",
       "      <td>0</td>\n",
       "      <td>0.0</td>\n",
       "      <td>-3.5</td>\n",
       "      <td>-6.4</td>\n",
       "      <td>4.5</td>\n",
       "    </tr>\n",
       "    <tr>\n",
       "      <th>27-3011</th>\n",
       "      <td>Radio and television announcers</td>\n",
       "      <td>Line item</td>\n",
       "      <td>41.3</td>\n",
       "      <td>36.5</td>\n",
       "      <td>0</td>\n",
       "      <td>0.0</td>\n",
       "      <td>-4.8</td>\n",
       "      <td>-11.6</td>\n",
       "      <td>3.2</td>\n",
       "    </tr>\n",
       "    <tr>\n",
       "      <th>27-3021</th>\n",
       "      <td>Broadcast news analysts</td>\n",
       "      <td>Line item</td>\n",
       "      <td>5.7</td>\n",
       "      <td>5.6</td>\n",
       "      <td>0</td>\n",
       "      <td>0.0</td>\n",
       "      <td>0</td>\n",
       "      <td>-0.4</td>\n",
       "      <td>0.5</td>\n",
       "    </tr>\n",
       "    <tr>\n",
       "      <th>27-3022</th>\n",
       "      <td>Reporters and correspondents</td>\n",
       "      <td>Line item</td>\n",
       "      <td>44.7</td>\n",
       "      <td>40.2</td>\n",
       "      <td>0</td>\n",
       "      <td>0.0</td>\n",
       "      <td>-4.5</td>\n",
       "      <td>-10</td>\n",
       "      <td>3.7</td>\n",
       "    </tr>\n",
       "    <tr>\n",
       "      <th>27-3041</th>\n",
       "      <td>Editors</td>\n",
       "      <td>Line item</td>\n",
       "      <td>127.4</td>\n",
       "      <td>125.6</td>\n",
       "      <td>0.1</td>\n",
       "      <td>0.1</td>\n",
       "      <td>-1.8</td>\n",
       "      <td>-1.4</td>\n",
       "      <td>12</td>\n",
       "    </tr>\n",
       "    <tr>\n",
       "      <th>27-4012</th>\n",
       "      <td>Broadcast technicians</td>\n",
       "      <td>Line item</td>\n",
       "      <td>34</td>\n",
       "      <td>32.9</td>\n",
       "      <td>0</td>\n",
       "      <td>0.0</td>\n",
       "      <td>-1.1</td>\n",
       "      <td>-3.2</td>\n",
       "      <td>2.9</td>\n",
       "    </tr>\n",
       "    <tr>\n",
       "      <th>27-4013</th>\n",
       "      <td>Radio operators</td>\n",
       "      <td>Line item</td>\n",
       "      <td>0.9</td>\n",
       "      <td>0.9</td>\n",
       "      <td>0</td>\n",
       "      <td>0.0</td>\n",
       "      <td>0</td>\n",
       "      <td>-1</td>\n",
       "      <td>0.1</td>\n",
       "    </tr>\n",
       "    <tr>\n",
       "      <th>27-4021</th>\n",
       "      <td>Photographers</td>\n",
       "      <td>Line item</td>\n",
       "      <td>147.3</td>\n",
       "      <td>139.0</td>\n",
       "      <td>0.1</td>\n",
       "      <td>0.1</td>\n",
       "      <td>-8.3</td>\n",
       "      <td>-5.6</td>\n",
       "      <td>10.3</td>\n",
       "    </tr>\n",
       "    <tr>\n",
       "      <th>29-2054</th>\n",
       "      <td>Respiratory therapy technicians</td>\n",
       "      <td>Line item</td>\n",
       "      <td>10.8</td>\n",
       "      <td>4.7</td>\n",
       "      <td>0</td>\n",
       "      <td>0.0</td>\n",
       "      <td>-6.1</td>\n",
       "      <td>-56.3</td>\n",
       "      <td>0</td>\n",
       "    </tr>\n",
       "    <tr>\n",
       "      <th>31-9094</th>\n",
       "      <td>Medical transcriptionists</td>\n",
       "      <td>Line item</td>\n",
       "      <td>57.4</td>\n",
       "      <td>55.5</td>\n",
       "      <td>0</td>\n",
       "      <td>0.0</td>\n",
       "      <td>-1.9</td>\n",
       "      <td>-3.4</td>\n",
       "      <td>6.4</td>\n",
       "    </tr>\n",
       "    <tr>\n",
       "      <th>31-9095</th>\n",
       "      <td>Pharmacy aides</td>\n",
       "      <td>Line item</td>\n",
       "      <td>36.9</td>\n",
       "      <td>35.2</td>\n",
       "      <td>0</td>\n",
       "      <td>0.0</td>\n",
       "      <td>-1.8</td>\n",
       "      <td>-4.8</td>\n",
       "      <td>4.7</td>\n",
       "    </tr>\n",
       "    <tr>\n",
       "      <th>33-1011</th>\n",
       "      <td>First-line supervisors of correctional officers</td>\n",
       "      <td>Line item</td>\n",
       "      <td>45.2</td>\n",
       "      <td>41.7</td>\n",
       "      <td>0</td>\n",
       "      <td>0.0</td>\n",
       "      <td>-3.5</td>\n",
       "      <td>-7.8</td>\n",
       "      <td>2.5</td>\n",
       "    </tr>\n",
       "    <tr>\n",
       "      <th>33-3011</th>\n",
       "      <td>Bailiffs</td>\n",
       "      <td>Line item</td>\n",
       "      <td>18.6</td>\n",
       "      <td>18.2</td>\n",
       "      <td>0</td>\n",
       "      <td>0.0</td>\n",
       "      <td>-0.4</td>\n",
       "      <td>-2.1</td>\n",
       "      <td>1.4</td>\n",
       "    </tr>\n",
       "    <tr>\n",
       "      <th>33-3012</th>\n",
       "      <td>Correctional officers and jailers</td>\n",
       "      <td>Line item</td>\n",
       "      <td>450</td>\n",
       "      <td>415.5</td>\n",
       "      <td>0.3</td>\n",
       "      <td>0.2</td>\n",
       "      <td>-34.5</td>\n",
       "      <td>-7.7</td>\n",
       "      <td>31.3</td>\n",
       "    </tr>\n",
       "    <tr>\n",
       "      <th>33-3041</th>\n",
       "      <td>Parking enforcement workers</td>\n",
       "      <td>Line item</td>\n",
       "      <td>9.4</td>\n",
       "      <td>6.1</td>\n",
       "      <td>0</td>\n",
       "      <td>0.0</td>\n",
       "      <td>-3.3</td>\n",
       "      <td>-35.3</td>\n",
       "      <td>0.4</td>\n",
       "    </tr>\n",
       "    <tr>\n",
       "      <th>35-2011</th>\n",
       "      <td>Cooks, fast food</td>\n",
       "      <td>Line item</td>\n",
       "      <td>517.6</td>\n",
       "      <td>490.5</td>\n",
       "      <td>0.3</td>\n",
       "      <td>0.3</td>\n",
       "      <td>-27.1</td>\n",
       "      <td>-5.2</td>\n",
       "      <td>67.2</td>\n",
       "    </tr>\n",
       "    <tr>\n",
       "      <th>35-2015</th>\n",
       "      <td>Cooks, short order</td>\n",
       "      <td>Line item</td>\n",
       "      <td>185.9</td>\n",
       "      <td>179.7</td>\n",
       "      <td>0.1</td>\n",
       "      <td>0.1</td>\n",
       "      <td>-6.2</td>\n",
       "      <td>-3.3</td>\n",
       "      <td>24.7</td>\n",
       "    </tr>\n",
       "    <tr>\n",
       "      <th>...</th>\n",
       "      <td>...</td>\n",
       "      <td>...</td>\n",
       "      <td>...</td>\n",
       "      <td>...</td>\n",
       "      <td>...</td>\n",
       "      <td>...</td>\n",
       "      <td>...</td>\n",
       "      <td>...</td>\n",
       "      <td>...</td>\n",
       "    </tr>\n",
       "    <tr>\n",
       "      <th>51-7041</th>\n",
       "      <td>Sawing machine setters, operators, and tenders...</td>\n",
       "      <td>Line item</td>\n",
       "      <td>54.8</td>\n",
       "      <td>54.6</td>\n",
       "      <td>0</td>\n",
       "      <td>0.0</td>\n",
       "      <td>-0.2</td>\n",
       "      <td>-0.3</td>\n",
       "      <td>6.2</td>\n",
       "    </tr>\n",
       "    <tr>\n",
       "      <th>51-8011</th>\n",
       "      <td>Nuclear power reactor operators</td>\n",
       "      <td>Line item</td>\n",
       "      <td>7</td>\n",
       "      <td>6.3</td>\n",
       "      <td>0</td>\n",
       "      <td>0.0</td>\n",
       "      <td>-0.7</td>\n",
       "      <td>-10.2</td>\n",
       "      <td>0.5</td>\n",
       "    </tr>\n",
       "    <tr>\n",
       "      <th>51-8012</th>\n",
       "      <td>Power distributors and dispatchers</td>\n",
       "      <td>Line item</td>\n",
       "      <td>11.6</td>\n",
       "      <td>11.3</td>\n",
       "      <td>0</td>\n",
       "      <td>0.0</td>\n",
       "      <td>-0.3</td>\n",
       "      <td>-2.5</td>\n",
       "      <td>1</td>\n",
       "    </tr>\n",
       "    <tr>\n",
       "      <th>51-8031</th>\n",
       "      <td>Water and wastewater treatment plant and syste...</td>\n",
       "      <td>Line item</td>\n",
       "      <td>119.2</td>\n",
       "      <td>115.4</td>\n",
       "      <td>0.1</td>\n",
       "      <td>0.1</td>\n",
       "      <td>-3.8</td>\n",
       "      <td>-3.2</td>\n",
       "      <td>9.2</td>\n",
       "    </tr>\n",
       "    <tr>\n",
       "      <th>51-8091</th>\n",
       "      <td>Chemical plant and system operators</td>\n",
       "      <td>Line item</td>\n",
       "      <td>33.2</td>\n",
       "      <td>30.1</td>\n",
       "      <td>0</td>\n",
       "      <td>0.0</td>\n",
       "      <td>-3.1</td>\n",
       "      <td>-9.2</td>\n",
       "      <td>2.8</td>\n",
       "    </tr>\n",
       "    <tr>\n",
       "      <th>51-9011</th>\n",
       "      <td>Chemical equipment operators and tenders</td>\n",
       "      <td>Line item</td>\n",
       "      <td>74.1</td>\n",
       "      <td>70.4</td>\n",
       "      <td>0</td>\n",
       "      <td>0.0</td>\n",
       "      <td>-3.7</td>\n",
       "      <td>-5</td>\n",
       "      <td>7.3</td>\n",
       "    </tr>\n",
       "    <tr>\n",
       "      <th>51-9021</th>\n",
       "      <td>Crushing, grinding, and polishing machine sett...</td>\n",
       "      <td>Line item</td>\n",
       "      <td>30.2</td>\n",
       "      <td>28.2</td>\n",
       "      <td>0</td>\n",
       "      <td>0.0</td>\n",
       "      <td>-2</td>\n",
       "      <td>-6.7</td>\n",
       "      <td>3</td>\n",
       "    </tr>\n",
       "    <tr>\n",
       "      <th>51-9022</th>\n",
       "      <td>Grinding and polishing workers, hand</td>\n",
       "      <td>Line item</td>\n",
       "      <td>26.6</td>\n",
       "      <td>21.1</td>\n",
       "      <td>0</td>\n",
       "      <td>0.0</td>\n",
       "      <td>-5.4</td>\n",
       "      <td>-20.5</td>\n",
       "      <td>2.1</td>\n",
       "    </tr>\n",
       "    <tr>\n",
       "      <th>51-9023</th>\n",
       "      <td>Mixing and blending machine setters, operators...</td>\n",
       "      <td>Line item</td>\n",
       "      <td>131</td>\n",
       "      <td>126.9</td>\n",
       "      <td>0.1</td>\n",
       "      <td>0.1</td>\n",
       "      <td>-4.1</td>\n",
       "      <td>-3.1</td>\n",
       "      <td>13.9</td>\n",
       "    </tr>\n",
       "    <tr>\n",
       "      <th>51-9031</th>\n",
       "      <td>Cutters and trimmers, hand</td>\n",
       "      <td>Line item</td>\n",
       "      <td>14.7</td>\n",
       "      <td>13.2</td>\n",
       "      <td>0</td>\n",
       "      <td>0.0</td>\n",
       "      <td>-1.5</td>\n",
       "      <td>-10.1</td>\n",
       "      <td>1.4</td>\n",
       "    </tr>\n",
       "    <tr>\n",
       "      <th>51-9032</th>\n",
       "      <td>Cutting and slicing machine setters, operators...</td>\n",
       "      <td>Line item</td>\n",
       "      <td>63.6</td>\n",
       "      <td>61.1</td>\n",
       "      <td>0</td>\n",
       "      <td>0.0</td>\n",
       "      <td>-2.5</td>\n",
       "      <td>-4</td>\n",
       "      <td>6.8</td>\n",
       "    </tr>\n",
       "    <tr>\n",
       "      <th>51-9041</th>\n",
       "      <td>Extruding, forming, pressing, and compacting m...</td>\n",
       "      <td>Line item</td>\n",
       "      <td>71.4</td>\n",
       "      <td>67.5</td>\n",
       "      <td>0</td>\n",
       "      <td>0.0</td>\n",
       "      <td>-3.8</td>\n",
       "      <td>-5.4</td>\n",
       "      <td>7.9</td>\n",
       "    </tr>\n",
       "    <tr>\n",
       "      <th>51-9051</th>\n",
       "      <td>Furnace, kiln, oven, drier, and kettle operato...</td>\n",
       "      <td>Line item</td>\n",
       "      <td>21.9</td>\n",
       "      <td>20.8</td>\n",
       "      <td>0</td>\n",
       "      <td>0.0</td>\n",
       "      <td>-1.1</td>\n",
       "      <td>-5.2</td>\n",
       "      <td>2</td>\n",
       "    </tr>\n",
       "    <tr>\n",
       "      <th>51-9061</th>\n",
       "      <td>Inspectors, testers, sorters, samplers, and we...</td>\n",
       "      <td>Line item</td>\n",
       "      <td>520.7</td>\n",
       "      <td>465.2</td>\n",
       "      <td>0.3</td>\n",
       "      <td>0.3</td>\n",
       "      <td>-55.5</td>\n",
       "      <td>-10.7</td>\n",
       "      <td>52.7</td>\n",
       "    </tr>\n",
       "    <tr>\n",
       "      <th>51-9071</th>\n",
       "      <td>Jewelers and precious stone and metal workers</td>\n",
       "      <td>Line item</td>\n",
       "      <td>37.7</td>\n",
       "      <td>35.2</td>\n",
       "      <td>0</td>\n",
       "      <td>0.0</td>\n",
       "      <td>-2.5</td>\n",
       "      <td>-6.7</td>\n",
       "      <td>3.5</td>\n",
       "    </tr>\n",
       "    <tr>\n",
       "      <th>51-9141</th>\n",
       "      <td>Semiconductor processors</td>\n",
       "      <td>Line item</td>\n",
       "      <td>25.5</td>\n",
       "      <td>24.1</td>\n",
       "      <td>0</td>\n",
       "      <td>0.0</td>\n",
       "      <td>-1.4</td>\n",
       "      <td>-5.6</td>\n",
       "      <td>2.6</td>\n",
       "    </tr>\n",
       "    <tr>\n",
       "      <th>51-9151</th>\n",
       "      <td>Photographic process workers and processing ma...</td>\n",
       "      <td>Line item</td>\n",
       "      <td>26.9</td>\n",
       "      <td>22.0</td>\n",
       "      <td>0</td>\n",
       "      <td>0.0</td>\n",
       "      <td>-4.9</td>\n",
       "      <td>-18.1</td>\n",
       "      <td>3.3</td>\n",
       "    </tr>\n",
       "    <tr>\n",
       "      <th>51-9191</th>\n",
       "      <td>Adhesive bonding machine operators and tenders</td>\n",
       "      <td>Line item</td>\n",
       "      <td>17</td>\n",
       "      <td>16.6</td>\n",
       "      <td>0</td>\n",
       "      <td>0.0</td>\n",
       "      <td>-0.5</td>\n",
       "      <td>-2.7</td>\n",
       "      <td>1.8</td>\n",
       "    </tr>\n",
       "    <tr>\n",
       "      <th>51-9195</th>\n",
       "      <td>Molders, shapers, and casters, except metal an...</td>\n",
       "      <td>Line item</td>\n",
       "      <td>43</td>\n",
       "      <td>41.9</td>\n",
       "      <td>0</td>\n",
       "      <td>0.0</td>\n",
       "      <td>-1</td>\n",
       "      <td>-2.3</td>\n",
       "      <td>4.2</td>\n",
       "    </tr>\n",
       "    <tr>\n",
       "      <th>51-9196</th>\n",
       "      <td>Paper goods machine setters, operators, and te...</td>\n",
       "      <td>Line item</td>\n",
       "      <td>94.6</td>\n",
       "      <td>86.1</td>\n",
       "      <td>0.1</td>\n",
       "      <td>0.1</td>\n",
       "      <td>-8.5</td>\n",
       "      <td>-9</td>\n",
       "      <td>8.3</td>\n",
       "    </tr>\n",
       "    <tr>\n",
       "      <th>51-9197</th>\n",
       "      <td>Tire builders</td>\n",
       "      <td>Line item</td>\n",
       "      <td>22.3</td>\n",
       "      <td>19.6</td>\n",
       "      <td>0</td>\n",
       "      <td>0.0</td>\n",
       "      <td>-2.7</td>\n",
       "      <td>-12.1</td>\n",
       "      <td>2.1</td>\n",
       "    </tr>\n",
       "    <tr>\n",
       "      <th>53-3031</th>\n",
       "      <td>Driver/sales workers</td>\n",
       "      <td>Line item</td>\n",
       "      <td>467.9</td>\n",
       "      <td>461.0</td>\n",
       "      <td>0.3</td>\n",
       "      <td>0.3</td>\n",
       "      <td>-6.9</td>\n",
       "      <td>-1.5</td>\n",
       "      <td>48.2</td>\n",
       "    </tr>\n",
       "    <tr>\n",
       "      <th>53-4011</th>\n",
       "      <td>Locomotive engineers</td>\n",
       "      <td>Line item</td>\n",
       "      <td>38.8</td>\n",
       "      <td>37.7</td>\n",
       "      <td>0</td>\n",
       "      <td>0.0</td>\n",
       "      <td>-1.1</td>\n",
       "      <td>-2.8</td>\n",
       "      <td>3</td>\n",
       "    </tr>\n",
       "    <tr>\n",
       "      <th>53-4012</th>\n",
       "      <td>Locomotive firers</td>\n",
       "      <td>Line item</td>\n",
       "      <td>1.2</td>\n",
       "      <td>0.3</td>\n",
       "      <td>0</td>\n",
       "      <td>0.0</td>\n",
       "      <td>-0.9</td>\n",
       "      <td>-78.6</td>\n",
       "      <td>0</td>\n",
       "    </tr>\n",
       "    <tr>\n",
       "      <th>53-4021</th>\n",
       "      <td>Railroad brake, signal, and switch operators</td>\n",
       "      <td>Line item</td>\n",
       "      <td>19.3</td>\n",
       "      <td>19.0</td>\n",
       "      <td>0</td>\n",
       "      <td>0.0</td>\n",
       "      <td>-0.3</td>\n",
       "      <td>-1.6</td>\n",
       "      <td>1.7</td>\n",
       "    </tr>\n",
       "    <tr>\n",
       "      <th>53-4031</th>\n",
       "      <td>Railroad conductors and yardmasters</td>\n",
       "      <td>Line item</td>\n",
       "      <td>41.8</td>\n",
       "      <td>41.0</td>\n",
       "      <td>0</td>\n",
       "      <td>0.0</td>\n",
       "      <td>-0.9</td>\n",
       "      <td>-2.1</td>\n",
       "      <td>3.7</td>\n",
       "    </tr>\n",
       "    <tr>\n",
       "      <th>53-7011</th>\n",
       "      <td>Conveyor operators and tenders</td>\n",
       "      <td>Line item</td>\n",
       "      <td>28.1</td>\n",
       "      <td>27.7</td>\n",
       "      <td>0</td>\n",
       "      <td>0.0</td>\n",
       "      <td>-0.3</td>\n",
       "      <td>-1.2</td>\n",
       "      <td>3.7</td>\n",
       "    </tr>\n",
       "    <tr>\n",
       "      <th>53-7033</th>\n",
       "      <td>Loading machine operators, underground mining</td>\n",
       "      <td>Line item</td>\n",
       "      <td>2.6</td>\n",
       "      <td>2.5</td>\n",
       "      <td>0</td>\n",
       "      <td>0.0</td>\n",
       "      <td>-0.1</td>\n",
       "      <td>-3.5</td>\n",
       "      <td>0.3</td>\n",
       "    </tr>\n",
       "    <tr>\n",
       "      <th>53-7041</th>\n",
       "      <td>Hoist and winch operators</td>\n",
       "      <td>Line item</td>\n",
       "      <td>2.9</td>\n",
       "      <td>2.9</td>\n",
       "      <td>0</td>\n",
       "      <td>0.0</td>\n",
       "      <td>0</td>\n",
       "      <td>-0.7</td>\n",
       "      <td>0.4</td>\n",
       "    </tr>\n",
       "    <tr>\n",
       "      <th>53-7111</th>\n",
       "      <td>Mine shuttle car operators</td>\n",
       "      <td>Line item</td>\n",
       "      <td>1.5</td>\n",
       "      <td>1.2</td>\n",
       "      <td>0</td>\n",
       "      <td>0.0</td>\n",
       "      <td>-0.3</td>\n",
       "      <td>-21.9</td>\n",
       "      <td>0.1</td>\n",
       "    </tr>\n",
       "  </tbody>\n",
       "</table>\n",
       "<p>168 rows × 9 columns</p>\n",
       "</div>"
      ],
      "text/plain": [
       "                                                       job occupation_type  \\\n",
       "SOC                                                                          \n",
       "11-1011                                   Chief executives       Line item   \n",
       "11-3051                     Industrial production managers       Line item   \n",
       "11-9013  Farmers, ranchers, and other agricultural mana...       Line item   \n",
       "11-9131               Postmasters and mail superintendents       Line item   \n",
       "13-1021        Buyers and purchasing agents, farm products       Line item   \n",
       "13-1022  Wholesale and retail buyers, except farm products       Line item   \n",
       "13-1023  Purchasing agents, except wholesale, retail, a...       Line item   \n",
       "13-1031     Claims adjusters, examiners, and investigators       Line item   \n",
       "13-1075                        Labor relations specialists       Line item   \n",
       "13-2053                             Insurance underwriters       Line item   \n",
       "13-2081   Tax examiners and collectors, and revenue agents       Line item   \n",
       "15-1131                               Computer programmers       Line item   \n",
       "25-3011  Adult basic and secondary education and litera...       Line item   \n",
       "27-1023                                   Floral designers       Line item   \n",
       "27-3011                    Radio and television announcers       Line item   \n",
       "27-3021                            Broadcast news analysts       Line item   \n",
       "27-3022                       Reporters and correspondents       Line item   \n",
       "27-3041                                            Editors       Line item   \n",
       "27-4012                              Broadcast technicians       Line item   \n",
       "27-4013                                    Radio operators       Line item   \n",
       "27-4021                                      Photographers       Line item   \n",
       "29-2054                    Respiratory therapy technicians       Line item   \n",
       "31-9094                          Medical transcriptionists       Line item   \n",
       "31-9095                                     Pharmacy aides       Line item   \n",
       "33-1011    First-line supervisors of correctional officers       Line item   \n",
       "33-3011                                           Bailiffs       Line item   \n",
       "33-3012                  Correctional officers and jailers       Line item   \n",
       "33-3041                        Parking enforcement workers       Line item   \n",
       "35-2011                                   Cooks, fast food       Line item   \n",
       "35-2015                                 Cooks, short order       Line item   \n",
       "...                                                    ...             ...   \n",
       "51-7041  Sawing machine setters, operators, and tenders...       Line item   \n",
       "51-8011                    Nuclear power reactor operators       Line item   \n",
       "51-8012                 Power distributors and dispatchers       Line item   \n",
       "51-8031  Water and wastewater treatment plant and syste...       Line item   \n",
       "51-8091                Chemical plant and system operators       Line item   \n",
       "51-9011           Chemical equipment operators and tenders       Line item   \n",
       "51-9021  Crushing, grinding, and polishing machine sett...       Line item   \n",
       "51-9022               Grinding and polishing workers, hand       Line item   \n",
       "51-9023  Mixing and blending machine setters, operators...       Line item   \n",
       "51-9031                         Cutters and trimmers, hand       Line item   \n",
       "51-9032  Cutting and slicing machine setters, operators...       Line item   \n",
       "51-9041  Extruding, forming, pressing, and compacting m...       Line item   \n",
       "51-9051  Furnace, kiln, oven, drier, and kettle operato...       Line item   \n",
       "51-9061  Inspectors, testers, sorters, samplers, and we...       Line item   \n",
       "51-9071      Jewelers and precious stone and metal workers       Line item   \n",
       "51-9141                           Semiconductor processors       Line item   \n",
       "51-9151  Photographic process workers and processing ma...       Line item   \n",
       "51-9191     Adhesive bonding machine operators and tenders       Line item   \n",
       "51-9195  Molders, shapers, and casters, except metal an...       Line item   \n",
       "51-9196  Paper goods machine setters, operators, and te...       Line item   \n",
       "51-9197                                      Tire builders       Line item   \n",
       "53-3031                               Driver/sales workers       Line item   \n",
       "53-4011                               Locomotive engineers       Line item   \n",
       "53-4012                                  Locomotive firers       Line item   \n",
       "53-4021       Railroad brake, signal, and switch operators       Line item   \n",
       "53-4031                Railroad conductors and yardmasters       Line item   \n",
       "53-7011                     Conveyor operators and tenders       Line item   \n",
       "53-7033      Loading machine operators, underground mining       Line item   \n",
       "53-7041                          Hoist and winch operators       Line item   \n",
       "53-7111                         Mine shuttle car operators       Line item   \n",
       "\n",
       "           2016    2026 2016_dist  2026_dist number_change percent_change  \\\n",
       "SOC                                                                         \n",
       "11-1011   308.9   296.8       0.2        0.2         -12.1           -3.9   \n",
       "11-3051   170.6   169.7       0.1        0.1          -0.9           -0.5   \n",
       "11-9013  1028.7  1020.7       0.7        0.6            -8           -0.8   \n",
       "11-9131    14.2    11.2         0        0.0            -3          -20.9   \n",
       "13-1021    13.7    12.9         0        0.0          -0.9           -6.2   \n",
       "13-1022   123.3   120.3       0.1        0.1            -3           -2.5   \n",
       "13-1023   309.4   292.1       0.2        0.2         -17.4           -5.6   \n",
       "13-1031   311.1   306.7       0.2        0.2          -4.5           -1.4   \n",
       "13-1075    81.1    74.8       0.1        0.0          -6.3           -7.7   \n",
       "13-2053   104.1    98.6       0.1        0.1          -5.4           -5.2   \n",
       "13-2081    62.1    61.7         0        0.0          -0.4           -0.6   \n",
       "15-1131   294.9   273.6       0.2        0.2         -21.3           -7.2   \n",
       "25-3011    68.2    64.7         0        0.0          -3.4           -5.1   \n",
       "27-1023      55    51.4         0        0.0          -3.5           -6.4   \n",
       "27-3011    41.3    36.5         0        0.0          -4.8          -11.6   \n",
       "27-3021     5.7     5.6         0        0.0             0           -0.4   \n",
       "27-3022    44.7    40.2         0        0.0          -4.5            -10   \n",
       "27-3041   127.4   125.6       0.1        0.1          -1.8           -1.4   \n",
       "27-4012      34    32.9         0        0.0          -1.1           -3.2   \n",
       "27-4013     0.9     0.9         0        0.0             0             -1   \n",
       "27-4021   147.3   139.0       0.1        0.1          -8.3           -5.6   \n",
       "29-2054    10.8     4.7         0        0.0          -6.1          -56.3   \n",
       "31-9094    57.4    55.5         0        0.0          -1.9           -3.4   \n",
       "31-9095    36.9    35.2         0        0.0          -1.8           -4.8   \n",
       "33-1011    45.2    41.7         0        0.0          -3.5           -7.8   \n",
       "33-3011    18.6    18.2         0        0.0          -0.4           -2.1   \n",
       "33-3012     450   415.5       0.3        0.2         -34.5           -7.7   \n",
       "33-3041     9.4     6.1         0        0.0          -3.3          -35.3   \n",
       "35-2011   517.6   490.5       0.3        0.3         -27.1           -5.2   \n",
       "35-2015   185.9   179.7       0.1        0.1          -6.2           -3.3   \n",
       "...         ...     ...       ...        ...           ...            ...   \n",
       "51-7041    54.8    54.6         0        0.0          -0.2           -0.3   \n",
       "51-8011       7     6.3         0        0.0          -0.7          -10.2   \n",
       "51-8012    11.6    11.3         0        0.0          -0.3           -2.5   \n",
       "51-8031   119.2   115.4       0.1        0.1          -3.8           -3.2   \n",
       "51-8091    33.2    30.1         0        0.0          -3.1           -9.2   \n",
       "51-9011    74.1    70.4         0        0.0          -3.7             -5   \n",
       "51-9021    30.2    28.2         0        0.0            -2           -6.7   \n",
       "51-9022    26.6    21.1         0        0.0          -5.4          -20.5   \n",
       "51-9023     131   126.9       0.1        0.1          -4.1           -3.1   \n",
       "51-9031    14.7    13.2         0        0.0          -1.5          -10.1   \n",
       "51-9032    63.6    61.1         0        0.0          -2.5             -4   \n",
       "51-9041    71.4    67.5         0        0.0          -3.8           -5.4   \n",
       "51-9051    21.9    20.8         0        0.0          -1.1           -5.2   \n",
       "51-9061   520.7   465.2       0.3        0.3         -55.5          -10.7   \n",
       "51-9071    37.7    35.2         0        0.0          -2.5           -6.7   \n",
       "51-9141    25.5    24.1         0        0.0          -1.4           -5.6   \n",
       "51-9151    26.9    22.0         0        0.0          -4.9          -18.1   \n",
       "51-9191      17    16.6         0        0.0          -0.5           -2.7   \n",
       "51-9195      43    41.9         0        0.0            -1           -2.3   \n",
       "51-9196    94.6    86.1       0.1        0.1          -8.5             -9   \n",
       "51-9197    22.3    19.6         0        0.0          -2.7          -12.1   \n",
       "53-3031   467.9   461.0       0.3        0.3          -6.9           -1.5   \n",
       "53-4011    38.8    37.7         0        0.0          -1.1           -2.8   \n",
       "53-4012     1.2     0.3         0        0.0          -0.9          -78.6   \n",
       "53-4021    19.3    19.0         0        0.0          -0.3           -1.6   \n",
       "53-4031    41.8    41.0         0        0.0          -0.9           -2.1   \n",
       "53-7011    28.1    27.7         0        0.0          -0.3           -1.2   \n",
       "53-7033     2.6     2.5         0        0.0          -0.1           -3.5   \n",
       "53-7041     2.9     2.9         0        0.0             0           -0.7   \n",
       "53-7111     1.5     1.2         0        0.0          -0.3          -21.9   \n",
       "\n",
       "        average  \n",
       "SOC              \n",
       "11-1011      20  \n",
       "11-3051    11.6  \n",
       "11-9013    74.3  \n",
       "11-9131     0.6  \n",
       "13-1021     1.4  \n",
       "13-1022    13.3  \n",
       "13-1023    23.8  \n",
       "13-1031    24.5  \n",
       "13-1075     6.8  \n",
       "13-2053     7.5  \n",
       "13-2081     4.2  \n",
       "15-1131    15.5  \n",
       "25-3011     6.8  \n",
       "27-1023     4.5  \n",
       "27-3011     3.2  \n",
       "27-3021     0.5  \n",
       "27-3022     3.7  \n",
       "27-3041      12  \n",
       "27-4012     2.9  \n",
       "27-4013     0.1  \n",
       "27-4021    10.3  \n",
       "29-2054       0  \n",
       "31-9094     6.4  \n",
       "31-9095     4.7  \n",
       "33-1011     2.5  \n",
       "33-3011     1.4  \n",
       "33-3012    31.3  \n",
       "33-3041     0.4  \n",
       "35-2011    67.2  \n",
       "35-2015    24.7  \n",
       "...         ...  \n",
       "51-7041     6.2  \n",
       "51-8011     0.5  \n",
       "51-8012       1  \n",
       "51-8031     9.2  \n",
       "51-8091     2.8  \n",
       "51-9011     7.3  \n",
       "51-9021       3  \n",
       "51-9022     2.1  \n",
       "51-9023    13.9  \n",
       "51-9031     1.4  \n",
       "51-9032     6.8  \n",
       "51-9041     7.9  \n",
       "51-9051       2  \n",
       "51-9061    52.7  \n",
       "51-9071     3.5  \n",
       "51-9141     2.6  \n",
       "51-9151     3.3  \n",
       "51-9191     1.8  \n",
       "51-9195     4.2  \n",
       "51-9196     8.3  \n",
       "51-9197     2.1  \n",
       "53-3031    48.2  \n",
       "53-4011       3  \n",
       "53-4012       0  \n",
       "53-4021     1.7  \n",
       "53-4031     3.7  \n",
       "53-7011     3.7  \n",
       "53-7033     0.3  \n",
       "53-7041     0.4  \n",
       "53-7111     0.1  \n",
       "\n",
       "[168 rows x 9 columns]"
      ]
     },
     "execution_count": 666,
     "metadata": {},
     "output_type": "execute_result"
    }
   ],
   "source": [
    "projectionsDf.query('percent_change<0.0')"
   ]
  },
  {
   "cell_type": "code",
   "execution_count": null,
   "metadata": {},
   "outputs": [],
   "source": []
  }
 ],
 "metadata": {
  "kernelspec": {
   "display_name": "Python 3",
   "language": "python",
   "name": "python3"
  },
  "language_info": {
   "codemirror_mode": {
    "name": "ipython",
    "version": 3
   },
   "file_extension": ".py",
   "mimetype": "text/x-python",
   "name": "python",
   "nbconvert_exporter": "python",
   "pygments_lexer": "ipython3",
   "version": "3.6.8"
  }
 },
 "nbformat": 4,
 "nbformat_minor": 2
}
